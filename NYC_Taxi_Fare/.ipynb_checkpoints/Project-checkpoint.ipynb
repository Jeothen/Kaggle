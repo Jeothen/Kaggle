{
 "cells": [
  {
   "cell_type": "markdown",
   "metadata": {
    "id": "_TMEBs88rlBY"
   },
   "source": [
    "\n",
    "# Libraries & Settings"
   ]
  },
  {
   "cell_type": "code",
   "execution_count": null,
   "metadata": {
    "id": "virEEBSMrlBc"
   },
   "outputs": [],
   "source": [
    "import sys\n",
    "import numpy as np\n",
    "import pandas as pd\n",
    "import matplotlib as mpl\n",
    "import matplotlib.pyplot as plt\n",
    "import seaborn as sns\n",
    "from sklearn.preprocessing import LabelEncoder\n",
    "from tqdm import tqdm"
   ]
  },
  {
   "cell_type": "markdown",
   "metadata": {
    "id": "GyDldONgrlBd"
   },
   "source": [
    "# Acquire Data"
   ]
  },
  {
   "cell_type": "code",
   "execution_count": null,
   "metadata": {
    "colab": {
     "base_uri": "https://localhost:8080/",
     "height": 35
    },
    "id": "AJbk7vmBrlBe",
    "outputId": "06fc42b3-b0a4-4d0f-94b3-a7002ee3d546"
   },
   "outputs": [],
   "source": [
    "train_path = \"./Data/train.csv\"\n",
    "test_path = \"./Data/test.csv\""
   ]
  },
  {
   "cell_type": "code",
   "execution_count": null,
   "metadata": {},
   "outputs": [],
   "source": [
    "df_test = pd.read_csv(test_path)"
   ]
  },
  {
   "cell_type": "code",
   "execution_count": null,
   "metadata": {},
   "outputs": [],
   "source": [
    "test_length = len(df_test)"
   ]
  },
  {
   "cell_type": "code",
   "execution_count": null,
   "metadata": {
    "colab": {
     "base_uri": "https://localhost:8080/"
    },
    "id": "0uj0TllHrlBe",
    "outputId": "a781c858-5dcd-464a-e754-ea5a7149ca37"
   },
   "outputs": [],
   "source": [
    "with open(train_path) as file:\n",
    "    rows = len(file.readlines())\n",
    "print(f\"Train Rows = {rows}\")"
   ]
  },
  {
   "cell_type": "code",
   "execution_count": null,
   "metadata": {
    "colab": {
     "base_uri": "https://localhost:8080/",
     "height": 309
    },
    "id": "KK5F-O0QrlBf",
    "outputId": "a5ffcab9-2c36-47b4-9067-e59efa5d78ef"
   },
   "outputs": [],
   "source": [
    "df_train_tmp = pd.read_csv(train_path, nrows=5)\n",
    "df_train_tmp.head()"
   ]
  },
  {
   "cell_type": "code",
   "execution_count": null,
   "metadata": {
    "colab": {
     "base_uri": "https://localhost:8080/"
    },
    "id": "iLMETD69rlBg",
    "outputId": "c34bf0c3-ee81-4bdb-bbed-34023f16253e"
   },
   "outputs": [],
   "source": [
    "df_train_tmp.info()"
   ]
  },
  {
   "cell_type": "code",
   "execution_count": null,
   "metadata": {
    "id": "3LwG1ppwrlBg"
   },
   "outputs": [],
   "source": [
    "traintypes = {'fare_amount': 'float32',\n",
    "              'pickup_datetime': 'str', \n",
    "              'pickup_longitude': 'float32',\n",
    "              'pickup_latitude': 'float32',\n",
    "              'dropoff_longitude': 'float32',\n",
    "              'dropoff_latitude': 'float32',\n",
    "              'passenger_count': 'int64'}\n",
    "\n",
    "testtypes = { 'pickup_datetime': 'str', \n",
    "              'pickup_longitude': 'float32',\n",
    "              'pickup_latitude': 'float32',\n",
    "              'dropoff_longitude': 'float32',\n",
    "              'dropoff_latitude': 'float32',\n",
    "              'passenger_count': 'int64'}"
   ]
  },
  {
   "cell_type": "code",
   "execution_count": null,
   "metadata": {
    "id": "kzqaUAalrlBh"
   },
   "outputs": [],
   "source": [
    "#chunk_size = 55423857\n",
    "chunk_size = 3000000"
   ]
  },
  {
   "cell_type": "code",
   "execution_count": null,
   "metadata": {},
   "outputs": [],
   "source": [
    "df_test.head()"
   ]
  },
  {
   "cell_type": "code",
   "execution_count": null,
   "metadata": {
    "colab": {
     "base_uri": "https://localhost:8080/"
    },
    "id": "ova_Gw60rlBi",
    "outputId": "dd9e6cc4-9aba-4e30-8bcf-f04711777769"
   },
   "outputs": [],
   "source": [
    "def create_hour_month(df_path, types, sizes) :\n",
    "    lists = []\n",
    "    for tmp in tqdm(pd.read_csv(df_path, usecols=list(types.keys()), dtype=types, chunksize=sizes)):\n",
    "        tmp['pickup_datetime'] = tmp['pickup_datetime'].str.slice(0, 16)\n",
    "        tmp['pickup_datetime'] = pd.to_datetime(tmp['pickup_datetime'], utc=True, format='%Y-%m-%d %H:%M')\n",
    "        lists.append(tmp)\n",
    "    df = pd.concat(lists)\n",
    "    return df"
   ]
  },
  {
   "cell_type": "code",
   "execution_count": null,
   "metadata": {
    "id": "HK2c5dAlrlBj"
   },
   "outputs": [],
   "source": [
    "df_train = create_hour_month(train_path, traintypes, chunk_size) # Very slow..."
   ]
  },
  {
   "cell_type": "code",
   "execution_count": null,
   "metadata": {},
   "outputs": [],
   "source": [
    "df_test = create_hour_month(test_path, testtypes, test_length)"
   ]
  },
  {
   "cell_type": "code",
   "execution_count": null,
   "metadata": {},
   "outputs": [],
   "source": [
    "df_train.head()"
   ]
  },
  {
   "cell_type": "code",
   "execution_count": null,
   "metadata": {},
   "outputs": [],
   "source": [
    "df_test.head()"
   ]
  },
  {
   "cell_type": "markdown",
   "metadata": {
    "id": "Zx3194dOrlBj"
   },
   "source": [
    "### Comparing Columns"
   ]
  },
  {
   "cell_type": "code",
   "execution_count": null,
   "metadata": {
    "colab": {
     "base_uri": "https://localhost:8080/"
    },
    "id": "K4s6JdFJrlBk",
    "outputId": "2869a8d1-0ee4-4ad0-e714-e9f1a3af4296"
   },
   "outputs": [],
   "source": [
    "df_train.info()\n",
    "print('_'*40)\n",
    "df_test.info()"
   ]
  },
  {
   "cell_type": "code",
   "execution_count": null,
   "metadata": {
    "id": "7cdN51nErlBk"
   },
   "outputs": [],
   "source": [
    "\n",
    "# find different column\n",
    "train_columns = pd.DataFrame({\"Diff_Column\": df_train.columns,\n",
    "                            \"train_data\" : range(len(df_train.columns.tolist()))})\n",
    "\n",
    "test_columns = pd.DataFrame({'Diff_Column': df_test.columns, \n",
    "                             'test_data': range(len(df_test.columns.tolist()))})\n",
    "\n",
    "col_merged = pd.merge(train_columns, test_columns, on = 'Diff_Column', how = 'left') # compare by column name\n",
    "\n",
    "diff_columns = []\n",
    "for i in col_merged[col_merged.isnull().any(axis = 1)]['Diff_Column']:\n",
    "    diff_columns.append(i)"
   ]
  },
  {
   "cell_type": "code",
   "execution_count": null,
   "metadata": {
    "id": "TI-X2HM4rlBk"
   },
   "outputs": [],
   "source": [
    "# Change Column\n",
    "\n",
    "re_index = list(df_test.columns)\n",
    "\n",
    "for col in df_train.columns:\n",
    "    if col in diff_columns :\n",
    "        re_index.append(col)\n",
    "        \n",
    "df_train = df_train.reindex(columns = re_index)"
   ]
  },
  {
   "cell_type": "code",
   "execution_count": null,
   "metadata": {
    "colab": {
     "base_uri": "https://localhost:8080/",
     "height": 359
    },
    "id": "v1ZrXJDHrlBk",
    "outputId": "b2de72e9-58ee-471d-9df8-06c93c03ef36"
   },
   "outputs": [],
   "source": [
    "train_info = pd.DataFrame(zip(df_train.columns, df_train.count(),df_train.nunique(), df_train.dtypes))\n",
    "train_info.columns = ['Column', 'Count', 'Unique', 'Dtype']\n",
    "test_info = pd.DataFrame(zip(df_test.columns, df_test.count(), df_test.nunique(), df_test.dtypes))\n",
    "test_info.columns = ['Column', 'Count', 'Unique', 'Dtype']\n",
    "pd.concat([train_info, test_info], axis = 1, join ='outer',\n",
    "          keys = ['train info','test info'])#.reindex=[train_info.index]"
   ]
  },
  {
   "cell_type": "markdown",
   "metadata": {
    "id": "dooETV9lrlBl"
   },
   "source": [
    "## Data Processing"
   ]
  },
  {
   "cell_type": "code",
   "execution_count": null,
   "metadata": {
    "colab": {
     "base_uri": "https://localhost:8080/",
     "height": 297
    },
    "id": "Dec8csndrlBl",
    "outputId": "0deb336e-bc17-4a84-ae61-634ec81864b9"
   },
   "outputs": [],
   "source": [
    "df_train.describe()"
   ]
  },
  {
   "cell_type": "markdown",
   "metadata": {
    "id": "rYuxdJZVrlBl"
   },
   "source": [
    "### Missing Value"
   ]
  },
  {
   "cell_type": "code",
   "execution_count": null,
   "metadata": {
    "colab": {
     "base_uri": "https://localhost:8080/"
    },
    "id": "1JYAj0TArlBl",
    "outputId": "58c57192-0e1b-4b6e-89a3-94a39a9b4e57"
   },
   "outputs": [],
   "source": [
    "round((df_train.isnull().sum()/len(df_train)*10000).sort_values(ascending=False),1)"
   ]
  },
  {
   "cell_type": "code",
   "execution_count": null,
   "metadata": {
    "colab": {
     "base_uri": "https://localhost:8080/"
    },
    "id": "SYvsEakmrlBl",
    "outputId": "720a5027-ad12-47dc-ccea-9945e58a9cf0"
   },
   "outputs": [],
   "source": [
    "round((df_test.isnull().sum()/len(df_test)*100).sort_values(ascending=False),1)"
   ]
  },
  {
   "cell_type": "code",
   "execution_count": null,
   "metadata": {
    "colab": {
     "base_uri": "https://localhost:8080/"
    },
    "id": "fYZfWqa9rlBm",
    "outputId": "08ac0d4c-892c-470e-9352-825bf10a1d5e"
   },
   "outputs": [],
   "source": [
    "print(\"Train Null data\\n\")\n",
    "print(df_train.isna().sum())\n",
    "print(\"\\nTest Null data\\n\")\n",
    "print(df_test.isna().sum())"
   ]
  },
  {
   "cell_type": "code",
   "execution_count": null,
   "metadata": {
    "id": "tPcK-x2srlBm"
   },
   "outputs": [],
   "source": [
    "df_train = df_train.dropna(axis=0) "
   ]
  },
  {
   "cell_type": "code",
   "execution_count": null,
   "metadata": {
    "colab": {
     "base_uri": "https://localhost:8080/"
    },
    "id": "_vR-PzBErlBm",
    "outputId": "e2516799-ad4a-4aac-eb3d-6dc84c1ea88f"
   },
   "outputs": [],
   "source": [
    "print(\"Train Null data\\n\")\n",
    "print(df_train.isna().sum())\n",
    "print(\"\\nTest Null data\\n\")\n",
    "print(df_test.isna().sum())"
   ]
  },
  {
   "cell_type": "markdown",
   "metadata": {
    "id": "EF30mJ9OrlBm"
   },
   "source": [
    "## EDA"
   ]
  },
  {
   "cell_type": "markdown",
   "metadata": {
    "id": "wyVALEqPrlBm"
   },
   "source": [
    "### Heatmap"
   ]
  },
  {
   "cell_type": "code",
   "execution_count": null,
   "metadata": {
    "id": "FKCrTVaZrlBm"
   },
   "outputs": [],
   "source": [
    "#st = df_train.apply(LabelEncoder().fit_transform)"
   ]
  },
  {
   "cell_type": "code",
   "execution_count": null,
   "metadata": {
    "id": "lrmTdE4RrlBm"
   },
   "outputs": [],
   "source": [
    "\"\"\"\n",
    "sns.set(color_codes=True)\n",
    "plt.figure(figsize=(18, 18))\n",
    "\n",
    "sns.heatmap(st.astype(float).corr(), \n",
    "            linewidths=0.2, \n",
    "            square=True, \n",
    "            linecolor='white', \n",
    "            annot=True,\n",
    "            cmap=\"YlGnBu\"\n",
    "           )\n",
    "plt.show()\n",
    "\"\"\""
   ]
  },
  {
   "cell_type": "code",
   "execution_count": null,
   "metadata": {},
   "outputs": [],
   "source": [
    "df_train[\"month\"] = df_train[\"pickup_datetime\"].dt.month\n",
    "df_test[\"month\"] = df_test[\"pickup_datetime\"].dt.month"
   ]
  },
  {
   "cell_type": "code",
   "execution_count": null,
   "metadata": {},
   "outputs": [],
   "source": [
    "\"\"\"\n",
    "df_train[\"month\"] = df_train.apply(lambda x : 1 if x[\"pickup_datetime\"].month == 12 or x[\"pickup_datetime\"].month < 3\n",
    "                                 else 2 if 3 <= x[\"pickup_datetime\"].month < 6 \n",
    "                                        else 3 if 6 <= x[\"pickup_datetime\"].month <ㅅ 9 \n",
    "                                 else 4, axis=1)\n",
    "\n",
    "df_test[\"month\"] = df_test.apply(lambda x : 1 if x[\"pickup_datetime\"].month == 12 or x[\"pickup_datetime\"].month < 3\n",
    "                                 else 2 if 3 <= x[\"pickup_datetime\"].month < 6 \n",
    "                                        else 3 if 6 <= x[\"pickup_datetime\"].month < 9 \n",
    "                                 else 4, axis=1)\n",
    "\"\"\""
   ]
  },
  {
   "cell_type": "code",
   "execution_count": null,
   "metadata": {},
   "outputs": [],
   "source": [
    "df_train[\"hour\"] = df_train[\"pickup_datetime\"].dt.hour\n",
    "df_test[\"hour\"] = df_test[\"pickup_datetime\"].dt.hour"
   ]
  },
  {
   "cell_type": "code",
   "execution_count": null,
   "metadata": {},
   "outputs": [],
   "source": [
    "df_train.drop([\"pickup_datetime\"], axis=1, inplace=True)\n",
    "df_test.drop([\"pickup_datetime\"], axis=1, inplace=True)"
   ]
  },
  {
   "cell_type": "code",
   "execution_count": null,
   "metadata": {
    "id": "ZxY5cjrxrlBn"
   },
   "outputs": [],
   "source": [
    "df_test[\"longitude_diff\"] = (abs(df_test[\"pickup_longitude\"] - df_test[\"dropoff_longitude\"])*1000000).astype(int)\n",
    "df_train[\"longitude_diff\"] = (abs(df_train[\"pickup_longitude\"] - df_train[\"dropoff_longitude\"])*1000000).astype(int)\n",
    "df_test[\"latitude_diff\"] = (abs(df_test[\"pickup_latitude\"] - df_test[\"dropoff_latitude\"])*1000000).astype(int)\n",
    "df_train[\"latitude_diff\"] = (abs(df_train[\"pickup_latitude\"] - df_train[\"dropoff_latitude\"])*1000000).astype(int)"
   ]
  },
  {
   "cell_type": "code",
   "execution_count": null,
   "metadata": {
    "id": "MmkfZGEOrlBn"
   },
   "outputs": [],
   "source": [
    "df_test.drop([\"pickup_longitude\",\"dropoff_longitude\",\"pickup_latitude\",\"dropoff_latitude\"], axis=1, inplace=True)\n",
    "df_train.drop([\"pickup_longitude\",\"dropoff_longitude\",\"pickup_latitude\",\"dropoff_latitude\"], axis=1, inplace=True)"
   ]
  },
  {
   "cell_type": "code",
   "execution_count": null,
   "metadata": {
    "id": "D8p6fc3FrlBn"
   },
   "outputs": [],
   "source": [
    "df_train.head()"
   ]
  },
  {
   "cell_type": "code",
   "execution_count": null,
   "metadata": {
    "id": "eO6Ma45urlBn"
   },
   "outputs": [],
   "source": [
    "df_test.head()"
   ]
  },
  {
   "cell_type": "code",
   "execution_count": null,
   "metadata": {
    "id": "6x8A9YysrlBn"
   },
   "outputs": [],
   "source": [
    "df_train.info()"
   ]
  },
  {
   "cell_type": "code",
   "execution_count": null,
   "metadata": {
    "id": "Mchpr-FqrlBo"
   },
   "outputs": [],
   "source": [
    "df_test.info()"
   ]
  },
  {
   "cell_type": "code",
   "execution_count": null,
   "metadata": {
    "id": "AbwTUtbPrlBo"
   },
   "outputs": [],
   "source": [
    "df_train[\"fare_amount\"] = (df_train[\"fare_amount\"]*10000).astype(int)"
   ]
  },
  {
   "cell_type": "markdown",
   "metadata": {
    "id": "M8AILnFCrlBo"
   },
   "source": [
    "### Train_test Split"
   ]
  },
  {
   "cell_type": "code",
   "execution_count": null,
   "metadata": {
    "id": "WbpEPFCSrlBo"
   },
   "outputs": [],
   "source": [
    "from sklearn.model_selection import train_test_split\n",
    "from sklearn.datasets import load_diabetes\n",
    "from sklearn.metrics import mean_squared_error\n",
    "from sklearn.metrics import r2_score"
   ]
  },
  {
   "cell_type": "code",
   "execution_count": null,
   "metadata": {
    "id": "EMVqEDfdrlBo"
   },
   "outputs": [],
   "source": [
    "dataset_x= df_train.copy()\n",
    "dataset_y = dataset_x.pop('fare_amount')"
   ]
  },
  {
   "cell_type": "code",
   "execution_count": null,
   "metadata": {
    "id": "oujFVUG-rlBo"
   },
   "outputs": [],
   "source": [
    "def regression_data():\n",
    "    X_train, X_test, y_train, y_test = train_test_split(dataset_x, dataset_y,)\n",
    "    return X_train, y_train, X_test, y_test\n",
    "\n",
    "\n",
    "def visualize_regression(y_tes, y_pred):\n",
    "  plt.rcParams[\"figure.figsize\"] = (10,4)\n",
    "  plt.rcParams['lines.linewidth'] = 4\n",
    "  plt.rcParams['lines.color'] = 'r'\n",
    "  plt.rcParams['axes.grid'] = True\n",
    "  \n",
    "  plt.scatter(np.arange(len(y_pred)), y_pred, label='blue')\n",
    "  plt.scatter(np.arange(len(y_pred)), y_tes, color='red', label='true')\n",
    "\n",
    "  plt.title('Scattered plot')\n",
    "  print('RMSE:', mean_squared_error(y_tes, y_pred) ** 0.5)\n",
    "  print('R2_score :', r2_score(y_tes, y_pred) ** 0.5)"
   ]
  },
  {
   "cell_type": "code",
   "execution_count": null,
   "metadata": {
    "id": "GcdAXGEDrlBo"
   },
   "outputs": [],
   "source": [
    "X_train, y_train, X_test, y_test = regression_data()\n",
    "print(X_train.shape, X_test.shape, y_train.shape, y_test.shape)"
   ]
  },
  {
   "cell_type": "markdown",
   "metadata": {
    "id": "UMMJwxHnrlBo"
   },
   "source": [
    "### Random Forest"
   ]
  },
  {
   "cell_type": "code",
   "execution_count": null,
   "metadata": {
    "id": "PF4PBupQrlBp"
   },
   "outputs": [],
   "source": [
    "from sklearn.ensemble import RandomForestClassifier\n",
    "random_forest = RandomForestClassifier(n_estimators=2000)\n",
    "random_forest.fit(X_train, y_train)"
   ]
  },
  {
   "cell_type": "code",
   "execution_count": null,
   "metadata": {
    "id": "R4tuhjtirlBp"
   },
   "outputs": [],
   "source": [
    "y_pred = random_forest.predict(X_test)"
   ]
  },
  {
   "cell_type": "code",
   "execution_count": null,
   "metadata": {
    "id": "QoFamHUgrlBp"
   },
   "outputs": [],
   "source": [
    "visualize_regression(y_test, y_pred)"
   ]
  },
  {
   "cell_type": "markdown",
   "metadata": {
    "id": "3IMTueEorlBp"
   },
   "source": [
    "### LightGBM"
   ]
  },
  {
   "cell_type": "code",
   "execution_count": null,
   "metadata": {
    "id": "9Lyi_aCWrlBp"
   },
   "outputs": [],
   "source": [
    "import lightgbm as lgb"
   ]
  },
  {
   "cell_type": "code",
   "execution_count": null,
   "metadata": {
    "id": "VEb4rDPyrlBp"
   },
   "outputs": [],
   "source": [
    "X_train, y_train, X_test, y_test = regression_data()\n",
    "\n",
    "gbm = lgb.LGBMRegressor(mc='0,0,0,0,0,0,0,0,0,0,0,0,0,0,0,0,0', \n",
    "                        learning_rate=0.07, \n",
    "                        n_estimators=64, \n",
    "                        seed=0)\n",
    "gbm.fit(X_train, y_train, eval_metric='l2', \n",
    "        eval_set=[(X_test, y_test)],\n",
    "        early_stopping_rounds=5, verbose=False)\n",
    "\n",
    "print('Best Iteration:', gbm.best_iteration_)\n",
    "print()\n",
    "y_pred = gbm.predict(X_test, num_iteration=gbm.best_iteration_)\n",
    "\n",
    "visualize_regression(y_test, y_pred)"
   ]
  },
  {
   "cell_type": "code",
   "execution_count": null,
   "metadata": {
    "id": "KxPv4JlDrlBp"
   },
   "outputs": [],
   "source": [
    "res = decision_tree.predict(df_test.values)"
   ]
  },
  {
   "cell_type": "code",
   "execution_count": null,
   "metadata": {
    "id": "3QdEVW9orlBp"
   },
   "outputs": [],
   "source": []
  },
  {
   "cell_type": "code",
   "execution_count": null,
   "metadata": {},
   "outputs": [],
   "source": []
  }
 ],
 "metadata": {
  "colab": {
   "collapsed_sections": [],
   "name": "Project.ipynb",
   "provenance": []
  },
  "kernelspec": {
   "display_name": "Python 3",
   "language": "python",
   "name": "python3"
  },
  "language_info": {
   "codemirror_mode": {
    "name": "ipython",
    "version": 3
   },
   "file_extension": ".py",
   "mimetype": "text/x-python",
   "name": "python",
   "nbconvert_exporter": "python",
   "pygments_lexer": "ipython3",
   "version": "3.8.3"
  }
 },
 "nbformat": 4,
 "nbformat_minor": 1
}
