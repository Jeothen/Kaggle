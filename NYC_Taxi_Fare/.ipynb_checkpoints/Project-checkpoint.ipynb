{
 "cells": [
  {
   "cell_type": "markdown",
   "metadata": {},
   "source": [
    "\n",
    "# Libraries & Settings"
   ]
  },
  {
   "cell_type": "code",
   "execution_count": 1,
   "metadata": {},
   "outputs": [],
   "source": [
    "import sys\n",
    "import numpy as np\n",
    "import pandas as pd\n",
    "import matplotlib as mpl\n",
    "import matplotlib.pyplot as plt\n",
    "import seaborn as sns\n",
    "from sklearn.preprocessing import LabelEncoder\n",
    "from tqdm import tqdm"
   ]
  },
  {
   "cell_type": "markdown",
   "metadata": {},
   "source": [
    "# Acquire Data"
   ]
  },
  {
   "cell_type": "code",
   "execution_count": 2,
   "metadata": {},
   "outputs": [],
   "source": [
    "train_path = \"./Data/train.csv\""
   ]
  },
  {
   "cell_type": "code",
   "execution_count": 3,
   "metadata": {},
   "outputs": [],
   "source": [
    "df_test = pd.read_csv(\"./Data/test.csv\")"
   ]
  },
  {
   "cell_type": "code",
   "execution_count": 4,
   "metadata": {},
   "outputs": [
    {
     "name": "stdout",
     "output_type": "stream",
     "text": [
      "Train Rows = 55423857\n"
     ]
    }
   ],
   "source": [
    "with open(train_path) as file:\n",
    "    rows = len(file.readlines())\n",
    "print(f\"Train Rows = {rows}\")"
   ]
  },
  {
   "cell_type": "code",
   "execution_count": 5,
   "metadata": {},
   "outputs": [
    {
     "data": {
      "text/html": [
       "<div>\n",
       "<style scoped>\n",
       "    .dataframe tbody tr th:only-of-type {\n",
       "        vertical-align: middle;\n",
       "    }\n",
       "\n",
       "    .dataframe tbody tr th {\n",
       "        vertical-align: top;\n",
       "    }\n",
       "\n",
       "    .dataframe thead th {\n",
       "        text-align: right;\n",
       "    }\n",
       "</style>\n",
       "<table border=\"1\" class=\"dataframe\">\n",
       "  <thead>\n",
       "    <tr style=\"text-align: right;\">\n",
       "      <th></th>\n",
       "      <th>key</th>\n",
       "      <th>fare_amount</th>\n",
       "      <th>pickup_datetime</th>\n",
       "      <th>pickup_longitude</th>\n",
       "      <th>pickup_latitude</th>\n",
       "      <th>dropoff_longitude</th>\n",
       "      <th>dropoff_latitude</th>\n",
       "      <th>passenger_count</th>\n",
       "    </tr>\n",
       "  </thead>\n",
       "  <tbody>\n",
       "    <tr>\n",
       "      <th>0</th>\n",
       "      <td>2009-06-15 17:26:21.0000001</td>\n",
       "      <td>4.5</td>\n",
       "      <td>2009-06-15 17:26:21 UTC</td>\n",
       "      <td>-73.844311</td>\n",
       "      <td>40.721319</td>\n",
       "      <td>-73.841610</td>\n",
       "      <td>40.712278</td>\n",
       "      <td>1</td>\n",
       "    </tr>\n",
       "    <tr>\n",
       "      <th>1</th>\n",
       "      <td>2010-01-05 16:52:16.0000002</td>\n",
       "      <td>16.9</td>\n",
       "      <td>2010-01-05 16:52:16 UTC</td>\n",
       "      <td>-74.016048</td>\n",
       "      <td>40.711303</td>\n",
       "      <td>-73.979268</td>\n",
       "      <td>40.782004</td>\n",
       "      <td>1</td>\n",
       "    </tr>\n",
       "    <tr>\n",
       "      <th>2</th>\n",
       "      <td>2011-08-18 00:35:00.00000049</td>\n",
       "      <td>5.7</td>\n",
       "      <td>2011-08-18 00:35:00 UTC</td>\n",
       "      <td>-73.982738</td>\n",
       "      <td>40.761270</td>\n",
       "      <td>-73.991242</td>\n",
       "      <td>40.750562</td>\n",
       "      <td>2</td>\n",
       "    </tr>\n",
       "    <tr>\n",
       "      <th>3</th>\n",
       "      <td>2012-04-21 04:30:42.0000001</td>\n",
       "      <td>7.7</td>\n",
       "      <td>2012-04-21 04:30:42 UTC</td>\n",
       "      <td>-73.987130</td>\n",
       "      <td>40.733143</td>\n",
       "      <td>-73.991567</td>\n",
       "      <td>40.758092</td>\n",
       "      <td>1</td>\n",
       "    </tr>\n",
       "    <tr>\n",
       "      <th>4</th>\n",
       "      <td>2010-03-09 07:51:00.000000135</td>\n",
       "      <td>5.3</td>\n",
       "      <td>2010-03-09 07:51:00 UTC</td>\n",
       "      <td>-73.968095</td>\n",
       "      <td>40.768008</td>\n",
       "      <td>-73.956655</td>\n",
       "      <td>40.783762</td>\n",
       "      <td>1</td>\n",
       "    </tr>\n",
       "  </tbody>\n",
       "</table>\n",
       "</div>"
      ],
      "text/plain": [
       "                             key  fare_amount          pickup_datetime  \\\n",
       "0    2009-06-15 17:26:21.0000001          4.5  2009-06-15 17:26:21 UTC   \n",
       "1    2010-01-05 16:52:16.0000002         16.9  2010-01-05 16:52:16 UTC   \n",
       "2   2011-08-18 00:35:00.00000049          5.7  2011-08-18 00:35:00 UTC   \n",
       "3    2012-04-21 04:30:42.0000001          7.7  2012-04-21 04:30:42 UTC   \n",
       "4  2010-03-09 07:51:00.000000135          5.3  2010-03-09 07:51:00 UTC   \n",
       "\n",
       "   pickup_longitude  pickup_latitude  dropoff_longitude  dropoff_latitude  \\\n",
       "0        -73.844311        40.721319         -73.841610         40.712278   \n",
       "1        -74.016048        40.711303         -73.979268         40.782004   \n",
       "2        -73.982738        40.761270         -73.991242         40.750562   \n",
       "3        -73.987130        40.733143         -73.991567         40.758092   \n",
       "4        -73.968095        40.768008         -73.956655         40.783762   \n",
       "\n",
       "   passenger_count  \n",
       "0                1  \n",
       "1                1  \n",
       "2                2  \n",
       "3                1  \n",
       "4                1  "
      ]
     },
     "execution_count": 5,
     "metadata": {},
     "output_type": "execute_result"
    }
   ],
   "source": [
    "df_train_tmp = pd.read_csv(train_path, nrows=5)\n",
    "df_train_tmp.head()"
   ]
  },
  {
   "cell_type": "code",
   "execution_count": 6,
   "metadata": {},
   "outputs": [
    {
     "name": "stdout",
     "output_type": "stream",
     "text": [
      "<class 'pandas.core.frame.DataFrame'>\n",
      "RangeIndex: 5 entries, 0 to 4\n",
      "Data columns (total 8 columns):\n",
      " #   Column             Non-Null Count  Dtype  \n",
      "---  ------             --------------  -----  \n",
      " 0   key                5 non-null      object \n",
      " 1   fare_amount        5 non-null      float64\n",
      " 2   pickup_datetime    5 non-null      object \n",
      " 3   pickup_longitude   5 non-null      float64\n",
      " 4   pickup_latitude    5 non-null      float64\n",
      " 5   dropoff_longitude  5 non-null      float64\n",
      " 6   dropoff_latitude   5 non-null      float64\n",
      " 7   passenger_count    5 non-null      int64  \n",
      "dtypes: float64(5), int64(1), object(2)\n",
      "memory usage: 448.0+ bytes\n"
     ]
    }
   ],
   "source": [
    "df_train_tmp.info()"
   ]
  },
  {
   "cell_type": "code",
   "execution_count": 7,
   "metadata": {},
   "outputs": [],
   "source": [
    "traintypes = {'fare_amount': 'float32',\n",
    "              'pickup_datetime': 'str', \n",
    "              'pickup_longitude': 'float32',\n",
    "              'pickup_latitude': 'float32',\n",
    "              'dropoff_longitude': 'float32',\n",
    "              'dropoff_latitude': 'float32',\n",
    "              'passenger_count': 'int64'}"
   ]
  },
  {
   "cell_type": "code",
   "execution_count": 8,
   "metadata": {},
   "outputs": [],
   "source": [
    "cols = list(traintypes.keys())"
   ]
  },
  {
   "cell_type": "code",
   "execution_count": 9,
   "metadata": {},
   "outputs": [],
   "source": [
    "chunk_size = 55423857"
   ]
  },
  {
   "cell_type": "code",
   "execution_count": 10,
   "metadata": {},
   "outputs": [
    {
     "name": "stderr",
     "output_type": "stream",
     "text": [
      "1it [01:12, 72.28s/it]\n"
     ]
    }
   ],
   "source": [
    "train_list = [] # list to hold the batch dataframe\n",
    "\n",
    "for tmp in tqdm(pd.read_csv(train_path, usecols=cols, dtype=traintypes, chunksize=chunk_size)):\n",
    "     \n",
    "    tmp['pickup_datetime'] = tmp['pickup_datetime'].str.slice(0, 16)\n",
    "    \n",
    "    tmp['pickup_datetime'] = pd.to_datetime(tmp['pickup_datetime'], utc=True, format='%Y-%m-%d %H:%M')\n",
    "\n",
    "    train_list.append(tmp) \n"
   ]
  },
  {
   "cell_type": "code",
   "execution_count": 11,
   "metadata": {},
   "outputs": [],
   "source": [
    "def create_hour_month(df) :\n",
    "    df[\"pickup_datetime\"]\n",
    "    length = len(df)\n",
    "    month_list = []\n",
    "    time_list = []\n",
    "    for i in range(length):\n",
    "        tmp = str(df[\"pickup_datetime\"][0]).split(\" \")\n",
    "        month = int(tmp[0].split(\"-\")[1])        \n",
    "        hour = int(int(tmp[1].split(':')[0]) / 3)\n",
    "        if month <= 2 or month == 12 :\n",
    "            month = 1\n",
    "        elif 3 <= month and month <= 5 : month = 2\n",
    "        elif 6 <= month and month <= 8 : month = 3\n",
    "        else : month = 4\n",
    "        month_list.append(month)\n",
    "        time_list.append(hour)    \n",
    "    df[\"hour\"] = time_list\n",
    "    df[\"month\"] = month_list\n",
    "    df.drop(['pickup_datetime'],axis=1, inplace=True)"
   ]
  },
  {
   "cell_type": "code",
   "execution_count": 12,
   "metadata": {},
   "outputs": [
    {
     "data": {
      "text/html": [
       "<div>\n",
       "<style scoped>\n",
       "    .dataframe tbody tr th:only-of-type {\n",
       "        vertical-align: middle;\n",
       "    }\n",
       "\n",
       "    .dataframe tbody tr th {\n",
       "        vertical-align: top;\n",
       "    }\n",
       "\n",
       "    .dataframe thead th {\n",
       "        text-align: right;\n",
       "    }\n",
       "</style>\n",
       "<table border=\"1\" class=\"dataframe\">\n",
       "  <thead>\n",
       "    <tr style=\"text-align: right;\">\n",
       "      <th></th>\n",
       "      <th>key</th>\n",
       "      <th>pickup_datetime</th>\n",
       "      <th>pickup_longitude</th>\n",
       "      <th>pickup_latitude</th>\n",
       "      <th>dropoff_longitude</th>\n",
       "      <th>dropoff_latitude</th>\n",
       "      <th>passenger_count</th>\n",
       "    </tr>\n",
       "  </thead>\n",
       "  <tbody>\n",
       "    <tr>\n",
       "      <th>0</th>\n",
       "      <td>2015-01-27 13:08:24.0000002</td>\n",
       "      <td>2015-01-27 13:08:24 UTC</td>\n",
       "      <td>-73.973320</td>\n",
       "      <td>40.763805</td>\n",
       "      <td>-73.981430</td>\n",
       "      <td>40.743835</td>\n",
       "      <td>1</td>\n",
       "    </tr>\n",
       "    <tr>\n",
       "      <th>1</th>\n",
       "      <td>2015-01-27 13:08:24.0000003</td>\n",
       "      <td>2015-01-27 13:08:24 UTC</td>\n",
       "      <td>-73.986862</td>\n",
       "      <td>40.719383</td>\n",
       "      <td>-73.998886</td>\n",
       "      <td>40.739201</td>\n",
       "      <td>1</td>\n",
       "    </tr>\n",
       "    <tr>\n",
       "      <th>2</th>\n",
       "      <td>2011-10-08 11:53:44.0000002</td>\n",
       "      <td>2011-10-08 11:53:44 UTC</td>\n",
       "      <td>-73.982524</td>\n",
       "      <td>40.751260</td>\n",
       "      <td>-73.979654</td>\n",
       "      <td>40.746139</td>\n",
       "      <td>1</td>\n",
       "    </tr>\n",
       "    <tr>\n",
       "      <th>3</th>\n",
       "      <td>2012-12-01 21:12:12.0000002</td>\n",
       "      <td>2012-12-01 21:12:12 UTC</td>\n",
       "      <td>-73.981160</td>\n",
       "      <td>40.767807</td>\n",
       "      <td>-73.990448</td>\n",
       "      <td>40.751635</td>\n",
       "      <td>1</td>\n",
       "    </tr>\n",
       "    <tr>\n",
       "      <th>4</th>\n",
       "      <td>2012-12-01 21:12:12.0000003</td>\n",
       "      <td>2012-12-01 21:12:12 UTC</td>\n",
       "      <td>-73.966046</td>\n",
       "      <td>40.789775</td>\n",
       "      <td>-73.988565</td>\n",
       "      <td>40.744427</td>\n",
       "      <td>1</td>\n",
       "    </tr>\n",
       "  </tbody>\n",
       "</table>\n",
       "</div>"
      ],
      "text/plain": [
       "                           key          pickup_datetime  pickup_longitude  \\\n",
       "0  2015-01-27 13:08:24.0000002  2015-01-27 13:08:24 UTC        -73.973320   \n",
       "1  2015-01-27 13:08:24.0000003  2015-01-27 13:08:24 UTC        -73.986862   \n",
       "2  2011-10-08 11:53:44.0000002  2011-10-08 11:53:44 UTC        -73.982524   \n",
       "3  2012-12-01 21:12:12.0000002  2012-12-01 21:12:12 UTC        -73.981160   \n",
       "4  2012-12-01 21:12:12.0000003  2012-12-01 21:12:12 UTC        -73.966046   \n",
       "\n",
       "   pickup_latitude  dropoff_longitude  dropoff_latitude  passenger_count  \n",
       "0        40.763805         -73.981430         40.743835                1  \n",
       "1        40.719383         -73.998886         40.739201                1  \n",
       "2        40.751260         -73.979654         40.746139                1  \n",
       "3        40.767807         -73.990448         40.751635                1  \n",
       "4        40.789775         -73.988565         40.744427                1  "
      ]
     },
     "execution_count": 12,
     "metadata": {},
     "output_type": "execute_result"
    }
   ],
   "source": [
    "df_test.head()"
   ]
  },
  {
   "cell_type": "code",
   "execution_count": 13,
   "metadata": {},
   "outputs": [],
   "source": [
    "df_train = pd.concat(train_list)"
   ]
  },
  {
   "cell_type": "code",
   "execution_count": 14,
   "metadata": {},
   "outputs": [
    {
     "data": {
      "text/html": [
       "<div>\n",
       "<style scoped>\n",
       "    .dataframe tbody tr th:only-of-type {\n",
       "        vertical-align: middle;\n",
       "    }\n",
       "\n",
       "    .dataframe tbody tr th {\n",
       "        vertical-align: top;\n",
       "    }\n",
       "\n",
       "    .dataframe thead th {\n",
       "        text-align: right;\n",
       "    }\n",
       "</style>\n",
       "<table border=\"1\" class=\"dataframe\">\n",
       "  <thead>\n",
       "    <tr style=\"text-align: right;\">\n",
       "      <th></th>\n",
       "      <th>fare_amount</th>\n",
       "      <th>pickup_datetime</th>\n",
       "      <th>pickup_longitude</th>\n",
       "      <th>pickup_latitude</th>\n",
       "      <th>dropoff_longitude</th>\n",
       "      <th>dropoff_latitude</th>\n",
       "      <th>passenger_count</th>\n",
       "    </tr>\n",
       "  </thead>\n",
       "  <tbody>\n",
       "    <tr>\n",
       "      <th>0</th>\n",
       "      <td>4.5</td>\n",
       "      <td>2009-06-15 17:26:00+00:00</td>\n",
       "      <td>-73.844315</td>\n",
       "      <td>40.721317</td>\n",
       "      <td>-73.841614</td>\n",
       "      <td>40.712276</td>\n",
       "      <td>1</td>\n",
       "    </tr>\n",
       "    <tr>\n",
       "      <th>1</th>\n",
       "      <td>16.9</td>\n",
       "      <td>2010-01-05 16:52:00+00:00</td>\n",
       "      <td>-74.016045</td>\n",
       "      <td>40.711304</td>\n",
       "      <td>-73.979271</td>\n",
       "      <td>40.782005</td>\n",
       "      <td>1</td>\n",
       "    </tr>\n",
       "    <tr>\n",
       "      <th>2</th>\n",
       "      <td>5.7</td>\n",
       "      <td>2011-08-18 00:35:00+00:00</td>\n",
       "      <td>-73.982735</td>\n",
       "      <td>40.761269</td>\n",
       "      <td>-73.991241</td>\n",
       "      <td>40.750561</td>\n",
       "      <td>2</td>\n",
       "    </tr>\n",
       "    <tr>\n",
       "      <th>3</th>\n",
       "      <td>7.7</td>\n",
       "      <td>2012-04-21 04:30:00+00:00</td>\n",
       "      <td>-73.987129</td>\n",
       "      <td>40.733143</td>\n",
       "      <td>-73.991570</td>\n",
       "      <td>40.758091</td>\n",
       "      <td>1</td>\n",
       "    </tr>\n",
       "    <tr>\n",
       "      <th>4</th>\n",
       "      <td>5.3</td>\n",
       "      <td>2010-03-09 07:51:00+00:00</td>\n",
       "      <td>-73.968094</td>\n",
       "      <td>40.768009</td>\n",
       "      <td>-73.956657</td>\n",
       "      <td>40.783764</td>\n",
       "      <td>1</td>\n",
       "    </tr>\n",
       "    <tr>\n",
       "      <th>...</th>\n",
       "      <td>...</td>\n",
       "      <td>...</td>\n",
       "      <td>...</td>\n",
       "      <td>...</td>\n",
       "      <td>...</td>\n",
       "      <td>...</td>\n",
       "      <td>...</td>\n",
       "    </tr>\n",
       "    <tr>\n",
       "      <th>55423851</th>\n",
       "      <td>14.0</td>\n",
       "      <td>2014-03-15 03:28:00+00:00</td>\n",
       "      <td>-74.005272</td>\n",
       "      <td>40.740028</td>\n",
       "      <td>-73.963280</td>\n",
       "      <td>40.762554</td>\n",
       "      <td>1</td>\n",
       "    </tr>\n",
       "    <tr>\n",
       "      <th>55423852</th>\n",
       "      <td>4.2</td>\n",
       "      <td>2009-03-24 20:46:00+00:00</td>\n",
       "      <td>-73.957787</td>\n",
       "      <td>40.765530</td>\n",
       "      <td>-73.951637</td>\n",
       "      <td>40.773960</td>\n",
       "      <td>1</td>\n",
       "    </tr>\n",
       "    <tr>\n",
       "      <th>55423853</th>\n",
       "      <td>14.1</td>\n",
       "      <td>2011-04-02 22:04:00+00:00</td>\n",
       "      <td>-73.970505</td>\n",
       "      <td>40.752323</td>\n",
       "      <td>-73.960541</td>\n",
       "      <td>40.797340</td>\n",
       "      <td>1</td>\n",
       "    </tr>\n",
       "    <tr>\n",
       "      <th>55423854</th>\n",
       "      <td>28.9</td>\n",
       "      <td>2011-10-26 05:57:00+00:00</td>\n",
       "      <td>-73.980904</td>\n",
       "      <td>40.764629</td>\n",
       "      <td>-73.870605</td>\n",
       "      <td>40.773964</td>\n",
       "      <td>1</td>\n",
       "    </tr>\n",
       "    <tr>\n",
       "      <th>55423855</th>\n",
       "      <td>7.5</td>\n",
       "      <td>2014-12-12 11:33:00+00:00</td>\n",
       "      <td>-73.969719</td>\n",
       "      <td>40.797668</td>\n",
       "      <td>-73.970886</td>\n",
       "      <td>40.783314</td>\n",
       "      <td>1</td>\n",
       "    </tr>\n",
       "  </tbody>\n",
       "</table>\n",
       "<p>55423856 rows × 7 columns</p>\n",
       "</div>"
      ],
      "text/plain": [
       "          fare_amount           pickup_datetime  pickup_longitude  \\\n",
       "0                 4.5 2009-06-15 17:26:00+00:00        -73.844315   \n",
       "1                16.9 2010-01-05 16:52:00+00:00        -74.016045   \n",
       "2                 5.7 2011-08-18 00:35:00+00:00        -73.982735   \n",
       "3                 7.7 2012-04-21 04:30:00+00:00        -73.987129   \n",
       "4                 5.3 2010-03-09 07:51:00+00:00        -73.968094   \n",
       "...               ...                       ...               ...   \n",
       "55423851         14.0 2014-03-15 03:28:00+00:00        -74.005272   \n",
       "55423852          4.2 2009-03-24 20:46:00+00:00        -73.957787   \n",
       "55423853         14.1 2011-04-02 22:04:00+00:00        -73.970505   \n",
       "55423854         28.9 2011-10-26 05:57:00+00:00        -73.980904   \n",
       "55423855          7.5 2014-12-12 11:33:00+00:00        -73.969719   \n",
       "\n",
       "          pickup_latitude  dropoff_longitude  dropoff_latitude  \\\n",
       "0               40.721317         -73.841614         40.712276   \n",
       "1               40.711304         -73.979271         40.782005   \n",
       "2               40.761269         -73.991241         40.750561   \n",
       "3               40.733143         -73.991570         40.758091   \n",
       "4               40.768009         -73.956657         40.783764   \n",
       "...                   ...                ...               ...   \n",
       "55423851        40.740028         -73.963280         40.762554   \n",
       "55423852        40.765530         -73.951637         40.773960   \n",
       "55423853        40.752323         -73.960541         40.797340   \n",
       "55423854        40.764629         -73.870605         40.773964   \n",
       "55423855        40.797668         -73.970886         40.783314   \n",
       "\n",
       "          passenger_count  \n",
       "0                       1  \n",
       "1                       1  \n",
       "2                       2  \n",
       "3                       1  \n",
       "4                       1  \n",
       "...                   ...  \n",
       "55423851                1  \n",
       "55423852                1  \n",
       "55423853                1  \n",
       "55423854                1  \n",
       "55423855                1  \n",
       "\n",
       "[55423856 rows x 7 columns]"
      ]
     },
     "execution_count": 14,
     "metadata": {},
     "output_type": "execute_result"
    }
   ],
   "source": [
    "df_train"
   ]
  },
  {
   "cell_type": "code",
   "execution_count": 15,
   "metadata": {},
   "outputs": [],
   "source": [
    "create_hour_month(df_test) # Very slow...\n",
    "create_hour_month(df_train)"
   ]
  },
  {
   "cell_type": "markdown",
   "metadata": {},
   "source": [
    "\n",
    "### Comparing Columns"
   ]
  },
  {
   "cell_type": "code",
   "execution_count": 16,
   "metadata": {},
   "outputs": [
    {
     "name": "stdout",
     "output_type": "stream",
     "text": [
      "<class 'pandas.core.frame.DataFrame'>\n",
      "RangeIndex: 55423856 entries, 0 to 55423855\n",
      "Data columns (total 8 columns):\n",
      " #   Column             Dtype  \n",
      "---  ------             -----  \n",
      " 0   fare_amount        float32\n",
      " 1   pickup_longitude   float32\n",
      " 2   pickup_latitude    float32\n",
      " 3   dropoff_longitude  float32\n",
      " 4   dropoff_latitude   float32\n",
      " 5   passenger_count    int64  \n",
      " 6   hour               int64  \n",
      " 7   month              int64  \n",
      "dtypes: float32(5), int64(3)\n",
      "memory usage: 2.3 GB\n",
      "________________________________________\n",
      "<class 'pandas.core.frame.DataFrame'>\n",
      "RangeIndex: 9914 entries, 0 to 9913\n",
      "Data columns (total 8 columns):\n",
      " #   Column             Non-Null Count  Dtype  \n",
      "---  ------             --------------  -----  \n",
      " 0   key                9914 non-null   object \n",
      " 1   pickup_longitude   9914 non-null   float64\n",
      " 2   pickup_latitude    9914 non-null   float64\n",
      " 3   dropoff_longitude  9914 non-null   float64\n",
      " 4   dropoff_latitude   9914 non-null   float64\n",
      " 5   passenger_count    9914 non-null   int64  \n",
      " 6   hour               9914 non-null   int64  \n",
      " 7   month              9914 non-null   int64  \n",
      "dtypes: float64(4), int64(3), object(1)\n",
      "memory usage: 619.8+ KB\n"
     ]
    }
   ],
   "source": [
    "df_train.info()\n",
    "print('_'*40)\n",
    "df_test.info()"
   ]
  },
  {
   "cell_type": "code",
   "execution_count": 17,
   "metadata": {},
   "outputs": [],
   "source": [
    "\n",
    "# find different column\n",
    "train_columns = pd.DataFrame({\"Diff_Column\": df_train.columns,\n",
    "                            \"train_data\" : range(len(df_train.columns.tolist()))})\n",
    "\n",
    "test_columns = pd.DataFrame({'Diff_Column': df_test.columns, \n",
    "                             'test_data': range(len(df_test.columns.tolist()))})\n",
    "\n",
    "col_merged = pd.merge(train_columns, test_columns, on = 'Diff_Column', how = 'left') # compare by column name\n",
    "\n",
    "diff_columns = []\n",
    "for i in col_merged[col_merged.isnull().any(axis = 1)]['Diff_Column']:\n",
    "    diff_columns.append(i)"
   ]
  },
  {
   "cell_type": "code",
   "execution_count": 18,
   "metadata": {},
   "outputs": [],
   "source": [
    "# Change Column\n",
    "\n",
    "re_index = list(df_test.columns)\n",
    "\n",
    "for col in df_train.columns:\n",
    "    if col in diff_columns :\n",
    "        re_index.append(col)\n",
    "        \n",
    "df_train = df_train.reindex(columns = re_index)"
   ]
  },
  {
   "cell_type": "code",
   "execution_count": 19,
   "metadata": {},
   "outputs": [
    {
     "data": {
      "text/html": [
       "<div>\n",
       "<style scoped>\n",
       "    .dataframe tbody tr th:only-of-type {\n",
       "        vertical-align: middle;\n",
       "    }\n",
       "\n",
       "    .dataframe tbody tr th {\n",
       "        vertical-align: top;\n",
       "    }\n",
       "\n",
       "    .dataframe thead tr th {\n",
       "        text-align: left;\n",
       "    }\n",
       "</style>\n",
       "<table border=\"1\" class=\"dataframe\">\n",
       "  <thead>\n",
       "    <tr>\n",
       "      <th></th>\n",
       "      <th colspan=\"4\" halign=\"left\">train info</th>\n",
       "      <th colspan=\"4\" halign=\"left\">test info</th>\n",
       "    </tr>\n",
       "    <tr>\n",
       "      <th></th>\n",
       "      <th>Column</th>\n",
       "      <th>Count</th>\n",
       "      <th>Unique</th>\n",
       "      <th>Dtype</th>\n",
       "      <th>Column</th>\n",
       "      <th>Count</th>\n",
       "      <th>Unique</th>\n",
       "      <th>Dtype</th>\n",
       "    </tr>\n",
       "  </thead>\n",
       "  <tbody>\n",
       "    <tr>\n",
       "      <th>0</th>\n",
       "      <td>key</td>\n",
       "      <td>0</td>\n",
       "      <td>0</td>\n",
       "      <td>float64</td>\n",
       "      <td>key</td>\n",
       "      <td>9914.0</td>\n",
       "      <td>9914.0</td>\n",
       "      <td>object</td>\n",
       "    </tr>\n",
       "    <tr>\n",
       "      <th>1</th>\n",
       "      <td>pickup_longitude</td>\n",
       "      <td>55423856</td>\n",
       "      <td>98330</td>\n",
       "      <td>float32</td>\n",
       "      <td>pickup_longitude</td>\n",
       "      <td>9914.0</td>\n",
       "      <td>9125.0</td>\n",
       "      <td>float64</td>\n",
       "    </tr>\n",
       "    <tr>\n",
       "      <th>2</th>\n",
       "      <td>pickup_latitude</td>\n",
       "      <td>55423856</td>\n",
       "      <td>116546</td>\n",
       "      <td>float32</td>\n",
       "      <td>pickup_latitude</td>\n",
       "      <td>9914.0</td>\n",
       "      <td>9247.0</td>\n",
       "      <td>float64</td>\n",
       "    </tr>\n",
       "    <tr>\n",
       "      <th>3</th>\n",
       "      <td>dropoff_longitude</td>\n",
       "      <td>55423480</td>\n",
       "      <td>114629</td>\n",
       "      <td>float32</td>\n",
       "      <td>dropoff_longitude</td>\n",
       "      <td>9914.0</td>\n",
       "      <td>9142.0</td>\n",
       "      <td>float64</td>\n",
       "    </tr>\n",
       "    <tr>\n",
       "      <th>4</th>\n",
       "      <td>dropoff_latitude</td>\n",
       "      <td>55423480</td>\n",
       "      <td>134778</td>\n",
       "      <td>float32</td>\n",
       "      <td>dropoff_latitude</td>\n",
       "      <td>9914.0</td>\n",
       "      <td>9360.0</td>\n",
       "      <td>float64</td>\n",
       "    </tr>\n",
       "    <tr>\n",
       "      <th>5</th>\n",
       "      <td>passenger_count</td>\n",
       "      <td>55423856</td>\n",
       "      <td>15</td>\n",
       "      <td>int64</td>\n",
       "      <td>passenger_count</td>\n",
       "      <td>9914.0</td>\n",
       "      <td>6.0</td>\n",
       "      <td>int64</td>\n",
       "    </tr>\n",
       "    <tr>\n",
       "      <th>6</th>\n",
       "      <td>hour</td>\n",
       "      <td>55423856</td>\n",
       "      <td>1</td>\n",
       "      <td>int64</td>\n",
       "      <td>hour</td>\n",
       "      <td>9914.0</td>\n",
       "      <td>1.0</td>\n",
       "      <td>int64</td>\n",
       "    </tr>\n",
       "    <tr>\n",
       "      <th>7</th>\n",
       "      <td>month</td>\n",
       "      <td>55423856</td>\n",
       "      <td>1</td>\n",
       "      <td>int64</td>\n",
       "      <td>month</td>\n",
       "      <td>9914.0</td>\n",
       "      <td>1.0</td>\n",
       "      <td>int64</td>\n",
       "    </tr>\n",
       "    <tr>\n",
       "      <th>8</th>\n",
       "      <td>fare_amount</td>\n",
       "      <td>55423856</td>\n",
       "      <td>9405</td>\n",
       "      <td>float32</td>\n",
       "      <td>NaN</td>\n",
       "      <td>NaN</td>\n",
       "      <td>NaN</td>\n",
       "      <td>NaN</td>\n",
       "    </tr>\n",
       "  </tbody>\n",
       "</table>\n",
       "</div>"
      ],
      "text/plain": [
       "          train info                                     test info          \\\n",
       "              Column     Count  Unique    Dtype             Column   Count   \n",
       "0                key         0       0  float64                key  9914.0   \n",
       "1   pickup_longitude  55423856   98330  float32   pickup_longitude  9914.0   \n",
       "2    pickup_latitude  55423856  116546  float32    pickup_latitude  9914.0   \n",
       "3  dropoff_longitude  55423480  114629  float32  dropoff_longitude  9914.0   \n",
       "4   dropoff_latitude  55423480  134778  float32   dropoff_latitude  9914.0   \n",
       "5    passenger_count  55423856      15    int64    passenger_count  9914.0   \n",
       "6               hour  55423856       1    int64               hour  9914.0   \n",
       "7              month  55423856       1    int64              month  9914.0   \n",
       "8        fare_amount  55423856    9405  float32                NaN     NaN   \n",
       "\n",
       "                    \n",
       "   Unique    Dtype  \n",
       "0  9914.0   object  \n",
       "1  9125.0  float64  \n",
       "2  9247.0  float64  \n",
       "3  9142.0  float64  \n",
       "4  9360.0  float64  \n",
       "5     6.0    int64  \n",
       "6     1.0    int64  \n",
       "7     1.0    int64  \n",
       "8     NaN      NaN  "
      ]
     },
     "execution_count": 19,
     "metadata": {},
     "output_type": "execute_result"
    }
   ],
   "source": [
    "train_info = pd.DataFrame(zip(df_train.columns, df_train.count(),df_train.nunique(), df_train.dtypes))\n",
    "train_info.columns = ['Column', 'Count', 'Unique', 'Dtype']\n",
    "test_info = pd.DataFrame(zip(df_test.columns, df_test.count(), df_test.nunique(), df_test.dtypes))\n",
    "test_info.columns = ['Column', 'Count', 'Unique', 'Dtype']\n",
    "pd.concat([train_info, test_info], axis = 1, join ='outer',\n",
    "          keys = ['train info','test info'])#.reindex=[train_info.index]"
   ]
  },
  {
   "cell_type": "code",
   "execution_count": 20,
   "metadata": {},
   "outputs": [],
   "source": [
    "df_train.drop(['key'],axis=1,inplace=True)\n",
    "df_test.drop(['key'],axis=1,inplace=True)"
   ]
  },
  {
   "cell_type": "markdown",
   "metadata": {},
   "source": [
    "## Data Processing"
   ]
  },
  {
   "cell_type": "code",
   "execution_count": 21,
   "metadata": {},
   "outputs": [
    {
     "data": {
      "text/html": [
       "<div>\n",
       "<style scoped>\n",
       "    .dataframe tbody tr th:only-of-type {\n",
       "        vertical-align: middle;\n",
       "    }\n",
       "\n",
       "    .dataframe tbody tr th {\n",
       "        vertical-align: top;\n",
       "    }\n",
       "\n",
       "    .dataframe thead th {\n",
       "        text-align: right;\n",
       "    }\n",
       "</style>\n",
       "<table border=\"1\" class=\"dataframe\">\n",
       "  <thead>\n",
       "    <tr style=\"text-align: right;\">\n",
       "      <th></th>\n",
       "      <th>pickup_longitude</th>\n",
       "      <th>pickup_latitude</th>\n",
       "      <th>dropoff_longitude</th>\n",
       "      <th>dropoff_latitude</th>\n",
       "      <th>passenger_count</th>\n",
       "      <th>hour</th>\n",
       "      <th>month</th>\n",
       "      <th>fare_amount</th>\n",
       "    </tr>\n",
       "  </thead>\n",
       "  <tbody>\n",
       "    <tr>\n",
       "      <th>count</th>\n",
       "      <td>5.542386e+07</td>\n",
       "      <td>5.542386e+07</td>\n",
       "      <td>5.542348e+07</td>\n",
       "      <td>5.542348e+07</td>\n",
       "      <td>5.542386e+07</td>\n",
       "      <td>55423856.0</td>\n",
       "      <td>55423856.0</td>\n",
       "      <td>5.542386e+07</td>\n",
       "    </tr>\n",
       "    <tr>\n",
       "      <th>mean</th>\n",
       "      <td>-3.875290e+01</td>\n",
       "      <td>1.937328e+01</td>\n",
       "      <td>-3.875261e+01</td>\n",
       "      <td>1.937341e+01</td>\n",
       "      <td>1.685380e+00</td>\n",
       "      <td>5.0</td>\n",
       "      <td>3.0</td>\n",
       "      <td>8.077921e+00</td>\n",
       "    </tr>\n",
       "    <tr>\n",
       "      <th>std</th>\n",
       "      <td>2.556202e+01</td>\n",
       "      <td>1.414234e+01</td>\n",
       "      <td>2.553839e+01</td>\n",
       "      <td>1.412191e+01</td>\n",
       "      <td>1.327664e+00</td>\n",
       "      <td>0.0</td>\n",
       "      <td>0.0</td>\n",
       "      <td>2.055127e+01</td>\n",
       "    </tr>\n",
       "    <tr>\n",
       "      <th>min</th>\n",
       "      <td>-3.442060e+03</td>\n",
       "      <td>-3.492264e+03</td>\n",
       "      <td>-3.442025e+03</td>\n",
       "      <td>-3.547887e+03</td>\n",
       "      <td>0.000000e+00</td>\n",
       "      <td>5.0</td>\n",
       "      <td>3.0</td>\n",
       "      <td>-3.000000e+02</td>\n",
       "    </tr>\n",
       "    <tr>\n",
       "      <th>25%</th>\n",
       "      <td>-7.399207e+01</td>\n",
       "      <td>4.073493e+01</td>\n",
       "      <td>-7.399140e+01</td>\n",
       "      <td>4.073403e+01</td>\n",
       "      <td>1.000000e+00</td>\n",
       "      <td>5.0</td>\n",
       "      <td>3.0</td>\n",
       "      <td>6.000000e+00</td>\n",
       "    </tr>\n",
       "    <tr>\n",
       "      <th>50%</th>\n",
       "      <td>-7.398180e+01</td>\n",
       "      <td>4.075265e+01</td>\n",
       "      <td>-7.398015e+01</td>\n",
       "      <td>4.075316e+01</td>\n",
       "      <td>1.000000e+00</td>\n",
       "      <td>5.0</td>\n",
       "      <td>3.0</td>\n",
       "      <td>8.500000e+00</td>\n",
       "    </tr>\n",
       "    <tr>\n",
       "      <th>75%</th>\n",
       "      <td>-7.396708e+01</td>\n",
       "      <td>4.076713e+01</td>\n",
       "      <td>-7.396368e+01</td>\n",
       "      <td>4.076810e+01</td>\n",
       "      <td>2.000000e+00</td>\n",
       "      <td>5.0</td>\n",
       "      <td>3.0</td>\n",
       "      <td>1.250000e+01</td>\n",
       "    </tr>\n",
       "    <tr>\n",
       "      <th>max</th>\n",
       "      <td>3.457626e+03</td>\n",
       "      <td>3.408790e+03</td>\n",
       "      <td>3.457622e+03</td>\n",
       "      <td>3.537133e+03</td>\n",
       "      <td>2.080000e+02</td>\n",
       "      <td>5.0</td>\n",
       "      <td>3.0</td>\n",
       "      <td>9.396336e+04</td>\n",
       "    </tr>\n",
       "  </tbody>\n",
       "</table>\n",
       "</div>"
      ],
      "text/plain": [
       "       pickup_longitude  pickup_latitude  dropoff_longitude  dropoff_latitude  \\\n",
       "count      5.542386e+07     5.542386e+07       5.542348e+07      5.542348e+07   \n",
       "mean      -3.875290e+01     1.937328e+01      -3.875261e+01      1.937341e+01   \n",
       "std        2.556202e+01     1.414234e+01       2.553839e+01      1.412191e+01   \n",
       "min       -3.442060e+03    -3.492264e+03      -3.442025e+03     -3.547887e+03   \n",
       "25%       -7.399207e+01     4.073493e+01      -7.399140e+01      4.073403e+01   \n",
       "50%       -7.398180e+01     4.075265e+01      -7.398015e+01      4.075316e+01   \n",
       "75%       -7.396708e+01     4.076713e+01      -7.396368e+01      4.076810e+01   \n",
       "max        3.457626e+03     3.408790e+03       3.457622e+03      3.537133e+03   \n",
       "\n",
       "       passenger_count        hour       month   fare_amount  \n",
       "count     5.542386e+07  55423856.0  55423856.0  5.542386e+07  \n",
       "mean      1.685380e+00         5.0         3.0  8.077921e+00  \n",
       "std       1.327664e+00         0.0         0.0  2.055127e+01  \n",
       "min       0.000000e+00         5.0         3.0 -3.000000e+02  \n",
       "25%       1.000000e+00         5.0         3.0  6.000000e+00  \n",
       "50%       1.000000e+00         5.0         3.0  8.500000e+00  \n",
       "75%       2.000000e+00         5.0         3.0  1.250000e+01  \n",
       "max       2.080000e+02         5.0         3.0  9.396336e+04  "
      ]
     },
     "execution_count": 21,
     "metadata": {},
     "output_type": "execute_result"
    }
   ],
   "source": [
    "df_train.describe()"
   ]
  },
  {
   "cell_type": "markdown",
   "metadata": {},
   "source": [
    "### Missing Value"
   ]
  },
  {
   "cell_type": "code",
   "execution_count": 22,
   "metadata": {},
   "outputs": [
    {
     "data": {
      "text/plain": [
       "dropoff_latitude     0.1\n",
       "dropoff_longitude    0.1\n",
       "fare_amount          0.0\n",
       "month                0.0\n",
       "hour                 0.0\n",
       "passenger_count      0.0\n",
       "pickup_latitude      0.0\n",
       "pickup_longitude     0.0\n",
       "dtype: float64"
      ]
     },
     "execution_count": 22,
     "metadata": {},
     "output_type": "execute_result"
    }
   ],
   "source": [
    "round((df_train.isnull().sum()/len(df_train)*10000).sort_values(ascending=False),1)"
   ]
  },
  {
   "cell_type": "code",
   "execution_count": 23,
   "metadata": {},
   "outputs": [
    {
     "data": {
      "text/plain": [
       "month                0.0\n",
       "hour                 0.0\n",
       "passenger_count      0.0\n",
       "dropoff_latitude     0.0\n",
       "dropoff_longitude    0.0\n",
       "pickup_latitude      0.0\n",
       "pickup_longitude     0.0\n",
       "dtype: float64"
      ]
     },
     "execution_count": 23,
     "metadata": {},
     "output_type": "execute_result"
    }
   ],
   "source": [
    "round((df_test.isnull().sum()/len(df_test)*100).sort_values(ascending=False),1)"
   ]
  },
  {
   "cell_type": "code",
   "execution_count": 24,
   "metadata": {},
   "outputs": [
    {
     "name": "stdout",
     "output_type": "stream",
     "text": [
      "Train Null data\n",
      "\n",
      "pickup_longitude       0\n",
      "pickup_latitude        0\n",
      "dropoff_longitude    376\n",
      "dropoff_latitude     376\n",
      "passenger_count        0\n",
      "hour                   0\n",
      "month                  0\n",
      "fare_amount            0\n",
      "dtype: int64\n",
      "\n",
      "Test Null data\n",
      "\n",
      "pickup_longitude     0\n",
      "pickup_latitude      0\n",
      "dropoff_longitude    0\n",
      "dropoff_latitude     0\n",
      "passenger_count      0\n",
      "hour                 0\n",
      "month                0\n",
      "dtype: int64\n"
     ]
    }
   ],
   "source": [
    "print(\"Train Null data\\n\")\n",
    "print(df_train.isna().sum())\n",
    "print(\"\\nTest Null data\\n\")\n",
    "print(df_test.isna().sum())"
   ]
  },
  {
   "cell_type": "code",
   "execution_count": 25,
   "metadata": {},
   "outputs": [],
   "source": [
    "df_train = df_train.dropna(axis=0) "
   ]
  },
  {
   "cell_type": "code",
   "execution_count": 26,
   "metadata": {},
   "outputs": [
    {
     "name": "stdout",
     "output_type": "stream",
     "text": [
      "Train Null data\n",
      "\n",
      "pickup_longitude     0\n",
      "pickup_latitude      0\n",
      "dropoff_longitude    0\n",
      "dropoff_latitude     0\n",
      "passenger_count      0\n",
      "hour                 0\n",
      "month                0\n",
      "fare_amount          0\n",
      "dtype: int64\n",
      "\n",
      "Test Null data\n",
      "\n",
      "pickup_longitude     0\n",
      "pickup_latitude      0\n",
      "dropoff_longitude    0\n",
      "dropoff_latitude     0\n",
      "passenger_count      0\n",
      "hour                 0\n",
      "month                0\n",
      "dtype: int64\n"
     ]
    }
   ],
   "source": [
    "print(\"Train Null data\\n\")\n",
    "print(df_train.isna().sum())\n",
    "print(\"\\nTest Null data\\n\")\n",
    "print(df_test.isna().sum())"
   ]
  },
  {
   "cell_type": "markdown",
   "metadata": {},
   "source": [
    "## EDA"
   ]
  },
  {
   "cell_type": "markdown",
   "metadata": {},
   "source": [
    "### Heatmap"
   ]
  },
  {
   "cell_type": "code",
   "execution_count": 27,
   "metadata": {},
   "outputs": [],
   "source": [
    "st = df_train.apply(LabelEncoder().fit_transform)"
   ]
  },
  {
   "cell_type": "code",
   "execution_count": 28,
   "metadata": {},
   "outputs": [
    {
     "data": {
      "image/png": "[encoded data removed]",
      "text/plain": [
       "<Figure size 1296x1296 with 2 Axes>"
      ]
     },
     "metadata": {},
     "output_type": "display_data"
    }
   ],
   "source": [
    "sns.set(color_codes=True)\n",
    "plt.figure(figsize=(18, 18))\n",
    "\n",
    "sns.heatmap(st.astype(float).corr(), \n",
    "            linewidths=0.2, \n",
    "            square=True, \n",
    "            linecolor='white', \n",
    "            annot=True,\n",
    "            cmap=\"YlGnBu\"\n",
    "           )\n",
    "plt.show()"
   ]
  },
  {
   "cell_type": "code",
   "execution_count": 29,
   "metadata": {},
   "outputs": [],
   "source": [
    "df_test[\"longitude_diff\"] = (abs(df_test[\"pickup_longitude\"] - df_test[\"dropoff_longitude\"])*1000000).astype(int)\n",
    "df_train[\"longitude_diff\"] = (abs(df_train[\"pickup_longitude\"] - df_train[\"dropoff_longitude\"])*1000000).astype(int)\n",
    "df_test[\"latitude_diff\"] = (abs(df_test[\"pickup_latitude\"] - df_test[\"dropoff_latitude\"])*1000000).astype(int)\n",
    "df_train[\"latitude_diff\"] = (abs(df_train[\"pickup_latitude\"] - df_train[\"dropoff_latitude\"])*1000000).astype(int)"
   ]
  },
  {
   "cell_type": "code",
   "execution_count": 30,
   "metadata": {},
   "outputs": [],
   "source": [
    "df_test.drop([\"pickup_longitude\",\"dropoff_longitude\",\"pickup_latitude\",\"dropoff_latitude\"], axis=1, inplace=True)\n",
    "df_train.drop([\"pickup_longitude\",\"dropoff_longitude\",\"pickup_latitude\",\"dropoff_latitude\"], axis=1, inplace=True)"
   ]
  },
  {
   "cell_type": "code",
   "execution_count": 31,
   "metadata": {},
   "outputs": [
    {
     "data": {
      "text/html": [
       "<div>\n",
       "<style scoped>\n",
       "    .dataframe tbody tr th:only-of-type {\n",
       "        vertical-align: middle;\n",
       "    }\n",
       "\n",
       "    .dataframe tbody tr th {\n",
       "        vertical-align: top;\n",
       "    }\n",
       "\n",
       "    .dataframe thead th {\n",
       "        text-align: right;\n",
       "    }\n",
       "</style>\n",
       "<table border=\"1\" class=\"dataframe\">\n",
       "  <thead>\n",
       "    <tr style=\"text-align: right;\">\n",
       "      <th></th>\n",
       "      <th>passenger_count</th>\n",
       "      <th>hour</th>\n",
       "      <th>month</th>\n",
       "      <th>fare_amount</th>\n",
       "      <th>longitude_diff</th>\n",
       "      <th>latitude_diff</th>\n",
       "    </tr>\n",
       "  </thead>\n",
       "  <tbody>\n",
       "    <tr>\n",
       "      <th>0</th>\n",
       "      <td>1</td>\n",
       "      <td>5</td>\n",
       "      <td>3</td>\n",
       "      <td>4.5</td>\n",
       "      <td>2700</td>\n",
       "      <td>9040</td>\n",
       "    </tr>\n",
       "    <tr>\n",
       "      <th>1</th>\n",
       "      <td>1</td>\n",
       "      <td>5</td>\n",
       "      <td>3</td>\n",
       "      <td>16.9</td>\n",
       "      <td>36773</td>\n",
       "      <td>70701</td>\n",
       "    </tr>\n",
       "    <tr>\n",
       "      <th>2</th>\n",
       "      <td>2</td>\n",
       "      <td>5</td>\n",
       "      <td>3</td>\n",
       "      <td>5.7</td>\n",
       "      <td>8506</td>\n",
       "      <td>10707</td>\n",
       "    </tr>\n",
       "    <tr>\n",
       "      <th>3</th>\n",
       "      <td>1</td>\n",
       "      <td>5</td>\n",
       "      <td>3</td>\n",
       "      <td>7.7</td>\n",
       "      <td>4440</td>\n",
       "      <td>24948</td>\n",
       "    </tr>\n",
       "    <tr>\n",
       "      <th>4</th>\n",
       "      <td>1</td>\n",
       "      <td>5</td>\n",
       "      <td>3</td>\n",
       "      <td>5.3</td>\n",
       "      <td>11436</td>\n",
       "      <td>15754</td>\n",
       "    </tr>\n",
       "  </tbody>\n",
       "</table>\n",
       "</div>"
      ],
      "text/plain": [
       "   passenger_count  hour  month  fare_amount  longitude_diff  latitude_diff\n",
       "0                1     5      3          4.5            2700           9040\n",
       "1                1     5      3         16.9           36773          70701\n",
       "2                2     5      3          5.7            8506          10707\n",
       "3                1     5      3          7.7            4440          24948\n",
       "4                1     5      3          5.3           11436          15754"
      ]
     },
     "execution_count": 31,
     "metadata": {},
     "output_type": "execute_result"
    }
   ],
   "source": [
    "df_train.head()"
   ]
  },
  {
   "cell_type": "code",
   "execution_count": 32,
   "metadata": {},
   "outputs": [
    {
     "data": {
      "text/html": [
       "<div>\n",
       "<style scoped>\n",
       "    .dataframe tbody tr th:only-of-type {\n",
       "        vertical-align: middle;\n",
       "    }\n",
       "\n",
       "    .dataframe tbody tr th {\n",
       "        vertical-align: top;\n",
       "    }\n",
       "\n",
       "    .dataframe thead th {\n",
       "        text-align: right;\n",
       "    }\n",
       "</style>\n",
       "<table border=\"1\" class=\"dataframe\">\n",
       "  <thead>\n",
       "    <tr style=\"text-align: right;\">\n",
       "      <th></th>\n",
       "      <th>passenger_count</th>\n",
       "      <th>hour</th>\n",
       "      <th>month</th>\n",
       "      <th>longitude_diff</th>\n",
       "      <th>latitude_diff</th>\n",
       "    </tr>\n",
       "  </thead>\n",
       "  <tbody>\n",
       "    <tr>\n",
       "      <th>0</th>\n",
       "      <td>1</td>\n",
       "      <td>4</td>\n",
       "      <td>1</td>\n",
       "      <td>8110</td>\n",
       "      <td>19969</td>\n",
       "    </tr>\n",
       "    <tr>\n",
       "      <th>1</th>\n",
       "      <td>1</td>\n",
       "      <td>4</td>\n",
       "      <td>1</td>\n",
       "      <td>12023</td>\n",
       "      <td>19817</td>\n",
       "    </tr>\n",
       "    <tr>\n",
       "      <th>2</th>\n",
       "      <td>1</td>\n",
       "      <td>4</td>\n",
       "      <td>1</td>\n",
       "      <td>2869</td>\n",
       "      <td>5120</td>\n",
       "    </tr>\n",
       "    <tr>\n",
       "      <th>3</th>\n",
       "      <td>1</td>\n",
       "      <td>4</td>\n",
       "      <td>1</td>\n",
       "      <td>9287</td>\n",
       "      <td>16171</td>\n",
       "    </tr>\n",
       "    <tr>\n",
       "      <th>4</th>\n",
       "      <td>1</td>\n",
       "      <td>4</td>\n",
       "      <td>1</td>\n",
       "      <td>22519</td>\n",
       "      <td>45347</td>\n",
       "    </tr>\n",
       "  </tbody>\n",
       "</table>\n",
       "</div>"
      ],
      "text/plain": [
       "   passenger_count  hour  month  longitude_diff  latitude_diff\n",
       "0                1     4      1            8110          19969\n",
       "1                1     4      1           12023          19817\n",
       "2                1     4      1            2869           5120\n",
       "3                1     4      1            9287          16171\n",
       "4                1     4      1           22519          45347"
      ]
     },
     "execution_count": 32,
     "metadata": {},
     "output_type": "execute_result"
    }
   ],
   "source": [
    "df_test.head()"
   ]
  },
  {
   "cell_type": "code",
   "execution_count": 33,
   "metadata": {},
   "outputs": [
    {
     "name": "stdout",
     "output_type": "stream",
     "text": [
      "<class 'pandas.core.frame.DataFrame'>\n",
      "Int64Index: 55423480 entries, 0 to 55423855\n",
      "Data columns (total 6 columns):\n",
      " #   Column           Dtype  \n",
      "---  ------           -----  \n",
      " 0   passenger_count  int64  \n",
      " 1   hour             int64  \n",
      " 2   month            int64  \n",
      " 3   fare_amount      float32\n",
      " 4   longitude_diff   int64  \n",
      " 5   latitude_diff    int64  \n",
      "dtypes: float32(1), int64(5)\n",
      "memory usage: 2.7 GB\n"
     ]
    }
   ],
   "source": [
    "df_train.info()"
   ]
  },
  {
   "cell_type": "code",
   "execution_count": 34,
   "metadata": {},
   "outputs": [
    {
     "name": "stdout",
     "output_type": "stream",
     "text": [
      "<class 'pandas.core.frame.DataFrame'>\n",
      "RangeIndex: 9914 entries, 0 to 9913\n",
      "Data columns (total 5 columns):\n",
      " #   Column           Non-Null Count  Dtype\n",
      "---  ------           --------------  -----\n",
      " 0   passenger_count  9914 non-null   int64\n",
      " 1   hour             9914 non-null   int64\n",
      " 2   month            9914 non-null   int64\n",
      " 3   longitude_diff   9914 non-null   int64\n",
      " 4   latitude_diff    9914 non-null   int64\n",
      "dtypes: int64(5)\n",
      "memory usage: 387.4 KB\n"
     ]
    }
   ],
   "source": [
    "df_test.info()"
   ]
  },
  {
   "cell_type": "code",
   "execution_count": 35,
   "metadata": {},
   "outputs": [],
   "source": [
    "df_train[\"fare_amount\"] = (df_train[\"fare_amount\"]*10000).astype(int)"
   ]
  },
  {
   "cell_type": "markdown",
   "metadata": {},
   "source": [
    "### Train_test Split"
   ]
  },
  {
   "cell_type": "code",
   "execution_count": 36,
   "metadata": {},
   "outputs": [],
   "source": [
    "from sklearn.model_selection import train_test_split\n",
    "from sklearn.datasets import load_diabetes\n",
    "from sklearn.metrics import mean_squared_error\n",
    "from sklearn.metrics import r2_score"
   ]
  },
  {
   "cell_type": "code",
   "execution_count": 37,
   "metadata": {},
   "outputs": [],
   "source": [
    "dataset_x= df_train.copy()\n",
    "dataset_y = dataset_x.pop('fare_amount')"
   ]
  },
  {
   "cell_type": "code",
   "execution_count": 38,
   "metadata": {},
   "outputs": [],
   "source": [
    "def regression_data():\n",
    "    X_train, X_test, y_train, y_test = train_test_split(dataset_x, dataset_y,)\n",
    "    return X_train, y_train, X_test, y_test\n",
    "\n",
    "\n",
    "def visualize_regression(y_tes, y_pred):\n",
    "  plt.rcParams[\"figure.figsize\"] = (10,4)\n",
    "  plt.rcParams['lines.linewidth'] = 4\n",
    "  plt.rcParams['lines.color'] = 'r'\n",
    "  plt.rcParams['axes.grid'] = True\n",
    "  \n",
    "  plt.scatter(np.arange(len(y_pred)), y_pred, label='blue')\n",
    "  plt.scatter(np.arange(len(y_pred)), y_tes, color='red', label='true')\n",
    "\n",
    "  plt.title('Scattered plot')\n",
    "  print('RMSE:', mean_squared_error(y_tes, y_pred) ** 0.5)\n",
    "  print('R2_score :', r2_score(y_tes, y_pred) ** 0.5)"
   ]
  },
  {
   "cell_type": "code",
   "execution_count": 39,
   "metadata": {},
   "outputs": [
    {
     "name": "stdout",
     "output_type": "stream",
     "text": [
      "(41567610, 5) (13855870, 5) (41567610,) (13855870,)\n"
     ]
    }
   ],
   "source": [
    "X_train, y_train, X_test, y_test = regression_data()\n",
    "print(X_train.shape, X_test.shape, y_train.shape, y_test.shape)"
   ]
  },
  {
   "cell_type": "markdown",
   "metadata": {},
   "source": [
    "### Random Forest"
   ]
  },
  {
   "cell_type": "code",
   "execution_count": 40,
   "metadata": {},
   "outputs": [
    {
     "name": "stdout",
     "output_type": "stream",
     "text": [
      "<class 'pandas.core.frame.DataFrame'>\n",
      "Int64Index: 55423480 entries, 0 to 55423855\n",
      "Data columns (total 6 columns):\n",
      " #   Column           Dtype\n",
      "---  ------           -----\n",
      " 0   passenger_count  int64\n",
      " 1   hour             int64\n",
      " 2   month            int64\n",
      " 3   fare_amount      int64\n",
      " 4   longitude_diff   int64\n",
      " 5   latitude_diff    int64\n",
      "dtypes: int64(6)\n",
      "memory usage: 2.9 GB\n"
     ]
    }
   ],
   "source": [
    "df_train.info()"
   ]
  },
  {
   "cell_type": "code",
   "execution_count": null,
   "metadata": {},
   "outputs": [],
   "source": [
    "from sklearn.ensemble import RandomForestClassifier\n",
    "\n",
    "random_forest = RandomForestClassifier(n_estimators=2000)\n",
    "random_forest.fit(X_train, y_train)"
   ]
  },
  {
   "cell_type": "code",
   "execution_count": null,
   "metadata": {},
   "outputs": [],
   "source": [
    "y_pred = random_forest.predict(X_test)"
   ]
  },
  {
   "cell_type": "code",
   "execution_count": null,
   "metadata": {},
   "outputs": [],
   "source": [
    "visualize_regression(y_test, y_pred)"
   ]
  },
  {
   "cell_type": "markdown",
   "metadata": {},
   "source": [
    "### LightGBM"
   ]
  },
  {
   "cell_type": "code",
   "execution_count": null,
   "metadata": {},
   "outputs": [],
   "source": [
    "import lightgbm as lgb"
   ]
  },
  {
   "cell_type": "code",
   "execution_count": null,
   "metadata": {},
   "outputs": [],
   "source": [
    "X_train, y_train, X_test, y_test = regression_data()\n",
    "\n",
    "gbm = lgb.LGBMRegressor(mc='0,0,0,0,0,0,0,0,0,0,0,0,0,0,0,0,0', \n",
    "                        learning_rate=0.07, \n",
    "                        n_estimators=64, \n",
    "                        seed=0)\n",
    "gbm.fit(X_train, y_train, eval_metric='l2', \n",
    "        eval_set=[(X_test, y_test)],\n",
    "        early_stopping_rounds=5, verbose=False)\n",
    "\n",
    "print('Best Iteration:', gbm.best_iteration_)\n",
    "print()\n",
    "y_pred = gbm.predict(X_test, num_iteration=gbm.best_iteration_)\n",
    "\n",
    "visualize_regression(y_test, y_pred)"
   ]
  },
  {
   "cell_type": "code",
   "execution_count": null,
   "metadata": {},
   "outputs": [],
   "source": [
    "res = decision_tree.predict(df_test.values)"
   ]
  },
  {
   "cell_type": "code",
   "execution_count": null,
   "metadata": {},
   "outputs": [],
   "source": []
  }
 ],
 "metadata": {
  "kernelspec": {
   "display_name": "Python 3",
   "language": "python",
   "name": "python3"
  },
  "language_info": {
   "codemirror_mode": {
    "name": "ipython",
    "version": 3
   },
   "file_extension": ".py",
   "mimetype": "text/x-python",
   "name": "python",
   "nbconvert_exporter": "python",
   "pygments_lexer": "ipython3",
   "version": "3.8.3"
  }
 },
 "nbformat": 4,
 "nbformat_minor": 4
}
