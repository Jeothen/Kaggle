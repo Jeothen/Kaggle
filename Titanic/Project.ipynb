{
 "cells": [
  {
   "cell_type": "markdown",
   "metadata": {},
   "source": [
    "# Libraries"
   ]
  },
  {
   "cell_type": "code",
   "execution_count": 1,
   "metadata": {},
   "outputs": [],
   "source": [
    "import sys\n",
    "import numpy as np\n",
    "import pandas as pd\n",
    "import matplotlib as mpl\n",
    "import matplotlib.pyplot as plt\n",
    "import seaborn as sns"
   ]
  },
  {
   "cell_type": "code",
   "execution_count": 2,
   "metadata": {},
   "outputs": [
    {
     "name": "stdout",
     "output_type": "stream",
     "text": [
      "1.0.5\n",
      "1.18.5\n",
      "3.8.3 (default, Jul  2 2020, 11:26:31) \n",
      "[Clang 10.0.0 ]\n"
     ]
    }
   ],
   "source": [
    "print(pd.__version__)\n",
    "print(np.version.version)\n",
    "print(sys.version)"
   ]
  },
  {
   "cell_type": "markdown",
   "metadata": {},
   "source": [
    "# Reading Data"
   ]
  },
  {
   "cell_type": "code",
   "execution_count": 3,
   "metadata": {},
   "outputs": [],
   "source": [
    "df_test = pd.read_csv(\"./Data/test.csv\")\n",
    "df_train = pd.read_csv(\"./Data/train.csv\")"
   ]
  },
  {
   "cell_type": "code",
   "execution_count": 4,
   "metadata": {},
   "outputs": [
    {
     "data": {
      "text/html": [
       "<div>\n",
       "<style scoped>\n",
       "    .dataframe tbody tr th:only-of-type {\n",
       "        vertical-align: middle;\n",
       "    }\n",
       "\n",
       "    .dataframe tbody tr th {\n",
       "        vertical-align: top;\n",
       "    }\n",
       "\n",
       "    .dataframe thead th {\n",
       "        text-align: right;\n",
       "    }\n",
       "</style>\n",
       "<table border=\"1\" class=\"dataframe\">\n",
       "  <thead>\n",
       "    <tr style=\"text-align: right;\">\n",
       "      <th></th>\n",
       "      <th>PassengerId</th>\n",
       "      <th>Survived</th>\n",
       "      <th>Pclass</th>\n",
       "      <th>Name</th>\n",
       "      <th>Sex</th>\n",
       "      <th>Age</th>\n",
       "      <th>SibSp</th>\n",
       "      <th>Parch</th>\n",
       "      <th>Ticket</th>\n",
       "      <th>Fare</th>\n",
       "      <th>Cabin</th>\n",
       "      <th>Embarked</th>\n",
       "    </tr>\n",
       "  </thead>\n",
       "  <tbody>\n",
       "    <tr>\n",
       "      <th>886</th>\n",
       "      <td>887</td>\n",
       "      <td>0</td>\n",
       "      <td>2</td>\n",
       "      <td>Montvila, Rev. Juozas</td>\n",
       "      <td>male</td>\n",
       "      <td>27.0</td>\n",
       "      <td>0</td>\n",
       "      <td>0</td>\n",
       "      <td>211536</td>\n",
       "      <td>13.00</td>\n",
       "      <td>NaN</td>\n",
       "      <td>S</td>\n",
       "    </tr>\n",
       "    <tr>\n",
       "      <th>887</th>\n",
       "      <td>888</td>\n",
       "      <td>1</td>\n",
       "      <td>1</td>\n",
       "      <td>Graham, Miss. Margaret Edith</td>\n",
       "      <td>female</td>\n",
       "      <td>19.0</td>\n",
       "      <td>0</td>\n",
       "      <td>0</td>\n",
       "      <td>112053</td>\n",
       "      <td>30.00</td>\n",
       "      <td>B42</td>\n",
       "      <td>S</td>\n",
       "    </tr>\n",
       "    <tr>\n",
       "      <th>888</th>\n",
       "      <td>889</td>\n",
       "      <td>0</td>\n",
       "      <td>3</td>\n",
       "      <td>Johnston, Miss. Catherine Helen \"Carrie\"</td>\n",
       "      <td>female</td>\n",
       "      <td>NaN</td>\n",
       "      <td>1</td>\n",
       "      <td>2</td>\n",
       "      <td>W./C. 6607</td>\n",
       "      <td>23.45</td>\n",
       "      <td>NaN</td>\n",
       "      <td>S</td>\n",
       "    </tr>\n",
       "    <tr>\n",
       "      <th>889</th>\n",
       "      <td>890</td>\n",
       "      <td>1</td>\n",
       "      <td>1</td>\n",
       "      <td>Behr, Mr. Karl Howell</td>\n",
       "      <td>male</td>\n",
       "      <td>26.0</td>\n",
       "      <td>0</td>\n",
       "      <td>0</td>\n",
       "      <td>111369</td>\n",
       "      <td>30.00</td>\n",
       "      <td>C148</td>\n",
       "      <td>C</td>\n",
       "    </tr>\n",
       "    <tr>\n",
       "      <th>890</th>\n",
       "      <td>891</td>\n",
       "      <td>0</td>\n",
       "      <td>3</td>\n",
       "      <td>Dooley, Mr. Patrick</td>\n",
       "      <td>male</td>\n",
       "      <td>32.0</td>\n",
       "      <td>0</td>\n",
       "      <td>0</td>\n",
       "      <td>370376</td>\n",
       "      <td>7.75</td>\n",
       "      <td>NaN</td>\n",
       "      <td>Q</td>\n",
       "    </tr>\n",
       "  </tbody>\n",
       "</table>\n",
       "</div>"
      ],
      "text/plain": [
       "     PassengerId  Survived  Pclass                                      Name  \\\n",
       "886          887         0       2                     Montvila, Rev. Juozas   \n",
       "887          888         1       1              Graham, Miss. Margaret Edith   \n",
       "888          889         0       3  Johnston, Miss. Catherine Helen \"Carrie\"   \n",
       "889          890         1       1                     Behr, Mr. Karl Howell   \n",
       "890          891         0       3                       Dooley, Mr. Patrick   \n",
       "\n",
       "        Sex   Age  SibSp  Parch      Ticket   Fare Cabin Embarked  \n",
       "886    male  27.0      0      0      211536  13.00   NaN        S  \n",
       "887  female  19.0      0      0      112053  30.00   B42        S  \n",
       "888  female   NaN      1      2  W./C. 6607  23.45   NaN        S  \n",
       "889    male  26.0      0      0      111369  30.00  C148        C  \n",
       "890    male  32.0      0      0      370376   7.75   NaN        Q  "
      ]
     },
     "execution_count": 4,
     "metadata": {},
     "output_type": "execute_result"
    }
   ],
   "source": [
    "df_train.tail()"
   ]
  },
  {
   "cell_type": "markdown",
   "metadata": {},
   "source": [
    "### Comparing Columns"
   ]
  },
  {
   "cell_type": "code",
   "execution_count": 5,
   "metadata": {},
   "outputs": [],
   "source": [
    "# find different column\n",
    "train_columns = pd.DataFrame({\"Diff_Column\": df_train.columns,\n",
    "                            \"train_data\" : range(len(df_train.columns.tolist()))})\n",
    "\n",
    "test_columns = pd.DataFrame({'Diff_Column': df_test.columns, \n",
    "                             'test_data': range(len(df_test.columns.tolist()))})\n",
    "\n",
    "col_merged = pd.merge(train_columns, test_columns, on = 'Diff_Column', how = 'left') # compare by column name\n",
    "\n",
    "diff_columns = []\n",
    "for i in col_merged[col_merged.isnull().any(axis = 1)]['Diff_Column']:\n",
    "    diff_columns.append(i)"
   ]
  },
  {
   "cell_type": "code",
   "execution_count": 6,
   "metadata": {},
   "outputs": [],
   "source": [
    "# Change Column\n",
    "\n",
    "re_index = list(df_test.columns)\n",
    "\n",
    "for col in df_train.columns:\n",
    "    if col in diff_columns :\n",
    "        re_index.append(col)\n",
    "        \n",
    "df_train = df_train.reindex(columns = re_index)\n"
   ]
  },
  {
   "cell_type": "code",
   "execution_count": 7,
   "metadata": {},
   "outputs": [
    {
     "data": {
      "text/html": [
       "<div>\n",
       "<style scoped>\n",
       "    .dataframe tbody tr th:only-of-type {\n",
       "        vertical-align: middle;\n",
       "    }\n",
       "\n",
       "    .dataframe tbody tr th {\n",
       "        vertical-align: top;\n",
       "    }\n",
       "\n",
       "    .dataframe thead th {\n",
       "        text-align: right;\n",
       "    }\n",
       "</style>\n",
       "<table border=\"1\" class=\"dataframe\">\n",
       "  <thead>\n",
       "    <tr style=\"text-align: right;\">\n",
       "      <th></th>\n",
       "      <th>PassengerId</th>\n",
       "      <th>Pclass</th>\n",
       "      <th>Name</th>\n",
       "      <th>Sex</th>\n",
       "      <th>Age</th>\n",
       "      <th>SibSp</th>\n",
       "      <th>Parch</th>\n",
       "      <th>Ticket</th>\n",
       "      <th>Fare</th>\n",
       "      <th>Cabin</th>\n",
       "      <th>Embarked</th>\n",
       "      <th>Survived</th>\n",
       "    </tr>\n",
       "  </thead>\n",
       "  <tbody>\n",
       "    <tr>\n",
       "      <th>886</th>\n",
       "      <td>887</td>\n",
       "      <td>2</td>\n",
       "      <td>Montvila, Rev. Juozas</td>\n",
       "      <td>male</td>\n",
       "      <td>27.0</td>\n",
       "      <td>0</td>\n",
       "      <td>0</td>\n",
       "      <td>211536</td>\n",
       "      <td>13.00</td>\n",
       "      <td>NaN</td>\n",
       "      <td>S</td>\n",
       "      <td>0</td>\n",
       "    </tr>\n",
       "    <tr>\n",
       "      <th>887</th>\n",
       "      <td>888</td>\n",
       "      <td>1</td>\n",
       "      <td>Graham, Miss. Margaret Edith</td>\n",
       "      <td>female</td>\n",
       "      <td>19.0</td>\n",
       "      <td>0</td>\n",
       "      <td>0</td>\n",
       "      <td>112053</td>\n",
       "      <td>30.00</td>\n",
       "      <td>B42</td>\n",
       "      <td>S</td>\n",
       "      <td>1</td>\n",
       "    </tr>\n",
       "    <tr>\n",
       "      <th>888</th>\n",
       "      <td>889</td>\n",
       "      <td>3</td>\n",
       "      <td>Johnston, Miss. Catherine Helen \"Carrie\"</td>\n",
       "      <td>female</td>\n",
       "      <td>NaN</td>\n",
       "      <td>1</td>\n",
       "      <td>2</td>\n",
       "      <td>W./C. 6607</td>\n",
       "      <td>23.45</td>\n",
       "      <td>NaN</td>\n",
       "      <td>S</td>\n",
       "      <td>0</td>\n",
       "    </tr>\n",
       "    <tr>\n",
       "      <th>889</th>\n",
       "      <td>890</td>\n",
       "      <td>1</td>\n",
       "      <td>Behr, Mr. Karl Howell</td>\n",
       "      <td>male</td>\n",
       "      <td>26.0</td>\n",
       "      <td>0</td>\n",
       "      <td>0</td>\n",
       "      <td>111369</td>\n",
       "      <td>30.00</td>\n",
       "      <td>C148</td>\n",
       "      <td>C</td>\n",
       "      <td>1</td>\n",
       "    </tr>\n",
       "    <tr>\n",
       "      <th>890</th>\n",
       "      <td>891</td>\n",
       "      <td>3</td>\n",
       "      <td>Dooley, Mr. Patrick</td>\n",
       "      <td>male</td>\n",
       "      <td>32.0</td>\n",
       "      <td>0</td>\n",
       "      <td>0</td>\n",
       "      <td>370376</td>\n",
       "      <td>7.75</td>\n",
       "      <td>NaN</td>\n",
       "      <td>Q</td>\n",
       "      <td>0</td>\n",
       "    </tr>\n",
       "  </tbody>\n",
       "</table>\n",
       "</div>"
      ],
      "text/plain": [
       "     PassengerId  Pclass                                      Name     Sex  \\\n",
       "886          887       2                     Montvila, Rev. Juozas    male   \n",
       "887          888       1              Graham, Miss. Margaret Edith  female   \n",
       "888          889       3  Johnston, Miss. Catherine Helen \"Carrie\"  female   \n",
       "889          890       1                     Behr, Mr. Karl Howell    male   \n",
       "890          891       3                       Dooley, Mr. Patrick    male   \n",
       "\n",
       "      Age  SibSp  Parch      Ticket   Fare Cabin Embarked  Survived  \n",
       "886  27.0      0      0      211536  13.00   NaN        S         0  \n",
       "887  19.0      0      0      112053  30.00   B42        S         1  \n",
       "888   NaN      1      2  W./C. 6607  23.45   NaN        S         0  \n",
       "889  26.0      0      0      111369  30.00  C148        C         1  \n",
       "890  32.0      0      0      370376   7.75   NaN        Q         0  "
      ]
     },
     "execution_count": 7,
     "metadata": {},
     "output_type": "execute_result"
    }
   ],
   "source": [
    "df_train.tail()"
   ]
  },
  {
   "cell_type": "code",
   "execution_count": 8,
   "metadata": {},
   "outputs": [
    {
     "data": {
      "text/plain": [
       "pandas.core.series.Series"
      ]
     },
     "execution_count": 8,
     "metadata": {},
     "output_type": "execute_result"
    }
   ],
   "source": [
    "type(df_train[\"Parch\"])"
   ]
  },
  {
   "cell_type": "code",
   "execution_count": 9,
   "metadata": {},
   "outputs": [
    {
     "data": {
      "text/html": [
       "<div>\n",
       "<style scoped>\n",
       "    .dataframe tbody tr th:only-of-type {\n",
       "        vertical-align: middle;\n",
       "    }\n",
       "\n",
       "    .dataframe tbody tr th {\n",
       "        vertical-align: top;\n",
       "    }\n",
       "\n",
       "    .dataframe thead tr th {\n",
       "        text-align: left;\n",
       "    }\n",
       "</style>\n",
       "<table border=\"1\" class=\"dataframe\">\n",
       "  <thead>\n",
       "    <tr>\n",
       "      <th></th>\n",
       "      <th colspan=\"4\" halign=\"left\">train info</th>\n",
       "      <th colspan=\"4\" halign=\"left\">test info</th>\n",
       "    </tr>\n",
       "    <tr>\n",
       "      <th></th>\n",
       "      <th>Column</th>\n",
       "      <th>Count</th>\n",
       "      <th>Unique</th>\n",
       "      <th>Dtype</th>\n",
       "      <th>Column</th>\n",
       "      <th>Count</th>\n",
       "      <th>Unique</th>\n",
       "      <th>Dtype</th>\n",
       "    </tr>\n",
       "  </thead>\n",
       "  <tbody>\n",
       "    <tr>\n",
       "      <th>0</th>\n",
       "      <td>PassengerId</td>\n",
       "      <td>891</td>\n",
       "      <td>891</td>\n",
       "      <td>int64</td>\n",
       "      <td>PassengerId</td>\n",
       "      <td>418.0</td>\n",
       "      <td>418.0</td>\n",
       "      <td>int64</td>\n",
       "    </tr>\n",
       "    <tr>\n",
       "      <th>1</th>\n",
       "      <td>Pclass</td>\n",
       "      <td>891</td>\n",
       "      <td>3</td>\n",
       "      <td>int64</td>\n",
       "      <td>Pclass</td>\n",
       "      <td>418.0</td>\n",
       "      <td>3.0</td>\n",
       "      <td>int64</td>\n",
       "    </tr>\n",
       "    <tr>\n",
       "      <th>2</th>\n",
       "      <td>Name</td>\n",
       "      <td>891</td>\n",
       "      <td>891</td>\n",
       "      <td>object</td>\n",
       "      <td>Name</td>\n",
       "      <td>418.0</td>\n",
       "      <td>418.0</td>\n",
       "      <td>object</td>\n",
       "    </tr>\n",
       "    <tr>\n",
       "      <th>3</th>\n",
       "      <td>Sex</td>\n",
       "      <td>891</td>\n",
       "      <td>2</td>\n",
       "      <td>object</td>\n",
       "      <td>Sex</td>\n",
       "      <td>418.0</td>\n",
       "      <td>2.0</td>\n",
       "      <td>object</td>\n",
       "    </tr>\n",
       "    <tr>\n",
       "      <th>4</th>\n",
       "      <td>Age</td>\n",
       "      <td>714</td>\n",
       "      <td>88</td>\n",
       "      <td>float64</td>\n",
       "      <td>Age</td>\n",
       "      <td>332.0</td>\n",
       "      <td>79.0</td>\n",
       "      <td>float64</td>\n",
       "    </tr>\n",
       "    <tr>\n",
       "      <th>5</th>\n",
       "      <td>SibSp</td>\n",
       "      <td>891</td>\n",
       "      <td>7</td>\n",
       "      <td>int64</td>\n",
       "      <td>SibSp</td>\n",
       "      <td>418.0</td>\n",
       "      <td>7.0</td>\n",
       "      <td>int64</td>\n",
       "    </tr>\n",
       "    <tr>\n",
       "      <th>6</th>\n",
       "      <td>Parch</td>\n",
       "      <td>891</td>\n",
       "      <td>7</td>\n",
       "      <td>int64</td>\n",
       "      <td>Parch</td>\n",
       "      <td>418.0</td>\n",
       "      <td>8.0</td>\n",
       "      <td>int64</td>\n",
       "    </tr>\n",
       "    <tr>\n",
       "      <th>7</th>\n",
       "      <td>Ticket</td>\n",
       "      <td>891</td>\n",
       "      <td>681</td>\n",
       "      <td>object</td>\n",
       "      <td>Ticket</td>\n",
       "      <td>418.0</td>\n",
       "      <td>363.0</td>\n",
       "      <td>object</td>\n",
       "    </tr>\n",
       "    <tr>\n",
       "      <th>8</th>\n",
       "      <td>Fare</td>\n",
       "      <td>891</td>\n",
       "      <td>248</td>\n",
       "      <td>float64</td>\n",
       "      <td>Fare</td>\n",
       "      <td>417.0</td>\n",
       "      <td>169.0</td>\n",
       "      <td>float64</td>\n",
       "    </tr>\n",
       "    <tr>\n",
       "      <th>9</th>\n",
       "      <td>Cabin</td>\n",
       "      <td>204</td>\n",
       "      <td>147</td>\n",
       "      <td>object</td>\n",
       "      <td>Cabin</td>\n",
       "      <td>91.0</td>\n",
       "      <td>76.0</td>\n",
       "      <td>object</td>\n",
       "    </tr>\n",
       "    <tr>\n",
       "      <th>10</th>\n",
       "      <td>Embarked</td>\n",
       "      <td>889</td>\n",
       "      <td>3</td>\n",
       "      <td>object</td>\n",
       "      <td>Embarked</td>\n",
       "      <td>418.0</td>\n",
       "      <td>3.0</td>\n",
       "      <td>object</td>\n",
       "    </tr>\n",
       "    <tr>\n",
       "      <th>11</th>\n",
       "      <td>Survived</td>\n",
       "      <td>891</td>\n",
       "      <td>2</td>\n",
       "      <td>int64</td>\n",
       "      <td>NaN</td>\n",
       "      <td>NaN</td>\n",
       "      <td>NaN</td>\n",
       "      <td>NaN</td>\n",
       "    </tr>\n",
       "  </tbody>\n",
       "</table>\n",
       "</div>"
      ],
      "text/plain": [
       "     train info                          test info                       \n",
       "         Column Count Unique    Dtype       Column  Count Unique    Dtype\n",
       "0   PassengerId   891    891    int64  PassengerId  418.0  418.0    int64\n",
       "1        Pclass   891      3    int64       Pclass  418.0    3.0    int64\n",
       "2          Name   891    891   object         Name  418.0  418.0   object\n",
       "3           Sex   891      2   object          Sex  418.0    2.0   object\n",
       "4           Age   714     88  float64          Age  332.0   79.0  float64\n",
       "5         SibSp   891      7    int64        SibSp  418.0    7.0    int64\n",
       "6         Parch   891      7    int64        Parch  418.0    8.0    int64\n",
       "7        Ticket   891    681   object       Ticket  418.0  363.0   object\n",
       "8          Fare   891    248  float64         Fare  417.0  169.0  float64\n",
       "9         Cabin   204    147   object        Cabin   91.0   76.0   object\n",
       "10     Embarked   889      3   object     Embarked  418.0    3.0   object\n",
       "11     Survived   891      2    int64          NaN    NaN    NaN      NaN"
      ]
     },
     "execution_count": 9,
     "metadata": {},
     "output_type": "execute_result"
    }
   ],
   "source": [
    "train_info = pd.DataFrame(zip(df_train.columns, df_train.count(),df_train.nunique(), df_train.dtypes))\n",
    "train_info.columns = ['Column', 'Count', 'Unique', 'Dtype']\n",
    "test_info = pd.DataFrame(zip(df_test.columns, df_test.count(), df_test.nunique(), df_test.dtypes))\n",
    "test_info.columns = ['Column', 'Count', 'Unique', 'Dtype']\n",
    "pd.concat([train_info, test_info], axis = 1, join ='outer',\n",
    "          keys = ['train info','test info'])#.reindex=[train_info.index]"
   ]
  },
  {
   "cell_type": "markdown",
   "metadata": {},
   "source": [
    "# Data Processing"
   ]
  },
  {
   "cell_type": "markdown",
   "metadata": {},
   "source": [
    "### Categorize column"
   ]
  },
  {
   "cell_type": "code",
   "execution_count": 10,
   "metadata": {},
   "outputs": [],
   "source": [
    "category_list = []"
   ]
  },
  {
   "cell_type": "code",
   "execution_count": 11,
   "metadata": {},
   "outputs": [],
   "source": [
    "uniques = {col: pd.DataFrame(df_test[col].value_counts()) \n",
    "              for col in list(df_test.columns)}"
   ]
  },
  {
   "cell_type": "code",
   "execution_count": 12,
   "metadata": {},
   "outputs": [
    {
     "data": {
      "text/plain": [
       "{'PassengerId':       PassengerId\n",
       " 1023            1\n",
       " 1128            1\n",
       " 1156            1\n",
       " 1157            1\n",
       " 1158            1\n",
       " ...           ...\n",
       " 1305            1\n",
       " 1306            1\n",
       " 1307            1\n",
       " 1308            1\n",
       " 1024            1\n",
       " \n",
       " [418 rows x 1 columns],\n",
       " 'Pclass':    Pclass\n",
       " 3     218\n",
       " 1     107\n",
       " 2      93,\n",
       " 'Name':                                               Name\n",
       " Nourney, Mr. Alfred (Baron von Drachstedt\")\"     1\n",
       " Hirvonen, Mrs. Alexander (Helga E Lindqvist)     1\n",
       " Boulos, Master. Akar                             1\n",
       " Ilmakangas, Miss. Ida Livija                     1\n",
       " Hilliard, Mr. Herbert Henry                      1\n",
       " ...                                            ...\n",
       " Ryerson, Mr. Arthur Larned                       1\n",
       " Everett, Mr. Thomas James                        1\n",
       " Brandeis, Mr. Emil                               1\n",
       " Bentham, Miss. Lilian W                          1\n",
       " Brobeck, Mr. Karl Rudolf                         1\n",
       " \n",
       " [418 rows x 1 columns],\n",
       " 'Sex':         Sex\n",
       " male    266\n",
       " female  152,\n",
       " 'Age':       Age\n",
       " 24.0   17\n",
       " 21.0   17\n",
       " 22.0   16\n",
       " 30.0   15\n",
       " 18.0   13\n",
       " ...   ...\n",
       " 7.0     1\n",
       " 60.5    1\n",
       " 26.5    1\n",
       " 76.0    1\n",
       " 34.5    1\n",
       " \n",
       " [79 rows x 1 columns],\n",
       " 'SibSp':    SibSp\n",
       " 0    283\n",
       " 1    110\n",
       " 2     14\n",
       " 4      4\n",
       " 3      4\n",
       " 8      2\n",
       " 5      1,\n",
       " 'Parch':    Parch\n",
       " 0    324\n",
       " 1     52\n",
       " 2     33\n",
       " 3      3\n",
       " 9      2\n",
       " 4      2\n",
       " 6      1\n",
       " 5      1,\n",
       " 'Ticket':             Ticket\n",
       " PC 17608         5\n",
       " 113503           4\n",
       " CA. 2343         4\n",
       " 347077           3\n",
       " C.A. 31029       3\n",
       " ...            ...\n",
       " 350053           1\n",
       " 376563           1\n",
       " 349256           1\n",
       " 236853           1\n",
       " 349235           1\n",
       " \n",
       " [363 rows x 1 columns],\n",
       " 'Fare':          Fare\n",
       " 7.7500     21\n",
       " 26.0000    19\n",
       " 8.0500     17\n",
       " 13.0000    17\n",
       " 7.8958     11\n",
       " ...       ...\n",
       " 9.3250      1\n",
       " 14.4583     1\n",
       " 15.0333     1\n",
       " 25.4667     1\n",
       " 21.0750     1\n",
       " \n",
       " [169 rows x 1 columns],\n",
       " 'Cabin':                  Cabin\n",
       " B57 B59 B63 B66      3\n",
       " F4                   2\n",
       " C6                   2\n",
       " B45                  2\n",
       " C55 C57              2\n",
       " ...                ...\n",
       " D38                  1\n",
       " B61                  1\n",
       " F G63                1\n",
       " A9                   1\n",
       " A18                  1\n",
       " \n",
       " [76 rows x 1 columns],\n",
       " 'Embarked':    Embarked\n",
       " S       270\n",
       " C       102\n",
       " Q        46}"
      ]
     },
     "execution_count": 12,
     "metadata": {},
     "output_type": "execute_result"
    }
   ],
   "source": [
    "uniques"
   ]
  },
  {
   "cell_type": "code",
   "execution_count": 13,
   "metadata": {},
   "outputs": [],
   "source": [
    "for i in uniques :\n",
    "    if len(uniques[i]) <= 10: category_list.append(i)"
   ]
  },
  {
   "cell_type": "code",
   "execution_count": 14,
   "metadata": {},
   "outputs": [
    {
     "data": {
      "text/plain": [
       "['Pclass', 'Sex', 'SibSp', 'Parch', 'Embarked']"
      ]
     },
     "execution_count": 14,
     "metadata": {},
     "output_type": "execute_result"
    }
   ],
   "source": [
    "category_list"
   ]
  },
  {
   "cell_type": "code",
   "execution_count": 15,
   "metadata": {},
   "outputs": [],
   "source": [
    "for col in category_list :\n",
    "    df_train[col].astype('category')\n",
    "    df_test[col].astype('category')"
   ]
  },
  {
   "cell_type": "markdown",
   "metadata": {},
   "source": [
    "### Missing Value"
   ]
  },
  {
   "cell_type": "code",
   "execution_count": 16,
   "metadata": {},
   "outputs": [
    {
     "data": {
      "text/plain": [
       "Cabin          164.4\n",
       "Age             42.3\n",
       "Embarked         0.5\n",
       "Survived         0.0\n",
       "Fare             0.0\n",
       "Ticket           0.0\n",
       "Parch            0.0\n",
       "SibSp            0.0\n",
       "Sex              0.0\n",
       "Name             0.0\n",
       "Pclass           0.0\n",
       "PassengerId      0.0\n",
       "dtype: float64"
      ]
     },
     "execution_count": 16,
     "metadata": {},
     "output_type": "execute_result"
    }
   ],
   "source": [
    "round((df_train.isnull().sum()/len(df_test)*100).sort_values(ascending=False),1)"
   ]
  },
  {
   "cell_type": "markdown",
   "metadata": {},
   "source": [
    "#### Cabin"
   ]
  },
  {
   "cell_type": "code",
   "execution_count": 17,
   "metadata": {},
   "outputs": [],
   "source": [
    "df_train.drop(\"Cabin\", axis=1, inplace=True)\n",
    "df_test.drop(\"Cabin\", axis=1, inplace=True)"
   ]
  },
  {
   "cell_type": "markdown",
   "metadata": {},
   "source": [
    "#### Age"
   ]
  },
  {
   "cell_type": "code",
   "execution_count": null,
   "metadata": {},
   "outputs": [],
   "source": []
  },
  {
   "cell_type": "code",
   "execution_count": null,
   "metadata": {},
   "outputs": [],
   "source": []
  },
  {
   "cell_type": "code",
   "execution_count": null,
   "metadata": {},
   "outputs": [],
   "source": []
  },
  {
   "cell_type": "code",
   "execution_count": null,
   "metadata": {},
   "outputs": [],
   "source": []
  },
  {
   "cell_type": "markdown",
   "metadata": {},
   "source": [
    "#### Embarked"
   ]
  },
  {
   "cell_type": "code",
   "execution_count": null,
   "metadata": {},
   "outputs": [],
   "source": []
  },
  {
   "cell_type": "code",
   "execution_count": null,
   "metadata": {},
   "outputs": [],
   "source": []
  },
  {
   "cell_type": "code",
   "execution_count": null,
   "metadata": {},
   "outputs": [],
   "source": []
  },
  {
   "cell_type": "code",
   "execution_count": null,
   "metadata": {},
   "outputs": [],
   "source": []
  },
  {
   "cell_type": "code",
   "execution_count": null,
   "metadata": {},
   "outputs": [],
   "source": []
  },
  {
   "cell_type": "code",
   "execution_count": null,
   "metadata": {},
   "outputs": [],
   "source": []
  },
  {
   "cell_type": "code",
   "execution_count": null,
   "metadata": {},
   "outputs": [],
   "source": []
  },
  {
   "cell_type": "markdown",
   "metadata": {},
   "source": [
    "### Converting to Numeric Value"
   ]
  },
  {
   "cell_type": "code",
   "execution_count": null,
   "metadata": {},
   "outputs": [],
   "source": []
  },
  {
   "cell_type": "code",
   "execution_count": null,
   "metadata": {},
   "outputs": [],
   "source": []
  },
  {
   "cell_type": "code",
   "execution_count": null,
   "metadata": {},
   "outputs": [],
   "source": []
  },
  {
   "cell_type": "code",
   "execution_count": null,
   "metadata": {},
   "outputs": [],
   "source": []
  },
  {
   "cell_type": "code",
   "execution_count": null,
   "metadata": {},
   "outputs": [],
   "source": []
  },
  {
   "cell_type": "code",
   "execution_count": null,
   "metadata": {},
   "outputs": [],
   "source": []
  },
  {
   "cell_type": "code",
   "execution_count": null,
   "metadata": {},
   "outputs": [],
   "source": []
  }
 ],
 "metadata": {
  "kernelspec": {
   "display_name": "Python 3",
   "language": "python",
   "name": "python3"
  },
  "language_info": {
   "codemirror_mode": {
    "name": "ipython",
    "version": 3
   },
   "file_extension": ".py",
   "mimetype": "text/x-python",
   "name": "python",
   "nbconvert_exporter": "python",
   "pygments_lexer": "ipython3",
   "version": "3.8.3"
  }
 },
 "nbformat": 4,
 "nbformat_minor": 4
}
